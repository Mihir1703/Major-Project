{
 "cells": [
  {
   "cell_type": "code",
   "execution_count": 45,
   "outputs": [
    {
     "name": "stdout",
     "output_type": "stream",
     "text": [
      "{'uci_id': 891, 'name': 'CDC Diabetes Health Indicators', 'repository_url': 'https://archive.ics.uci.edu/dataset/891/cdc+diabetes+health+indicators', 'data_url': 'https://archive.ics.uci.edu/static/public/891/data.csv', 'abstract': 'The Diabetes Health Indicators Dataset contains healthcare statistics and lifestyle survey information about people in general along with their diagnosis of diabetes. The 35 features consist of some demographics, lab test results, and answers to survey questions for each patient. The target variable for classification is whether a patient has diabetes, is pre-diabetic, or healthy. ', 'area': 'Life Science', 'tasks': ['Classification'], 'characteristics': ['Tabular', 'Multivariate'], 'num_instances': 253680, 'num_features': 21, 'feature_types': ['Categorical', 'Integer'], 'demographics': ['Sex', 'Age', 'Education Level', 'Income'], 'target_col': ['Diabetes_binary'], 'index_col': ['ID'], 'has_missing_values': 'no', 'missing_values_symbol': None, 'year_of_dataset_creation': 2017, 'last_updated': 'Wed Sep 27 2023', 'dataset_doi': '10.24432/C53919', 'creators': [], 'intro_paper': {'title': 'Incidence of End-Stage Renal Disease Attributed to Diabetes Among Persons with Diagnosed Diabetes — United States and Puerto Rico, 2000–2014', 'authors': 'Nilka Rios Burrows, MPH; Israel Hora, PhD; Linda S. Geiss, MA; Edward W. Gregg, PhD; Ann Albright, PhD', 'published_in': 'Morbidity and Mortality Weekly Report', 'year': 2017, 'url': 'https://www.cdc.gov/mmwr/volumes/66/wr/mm6643a2.htm', 'doi': None}, 'additional_info': {'summary': 'Dataset link: https://www.cdc.gov/brfss/annual_data/annual_2014.html', 'purpose': 'To better understand the relationship between  lifestyle and diabetes in the US', 'funded_by': 'The CDC', 'instances_represent': 'Each row represents a person participating in this study.', 'recommended_data_splits': 'Cross validation or a fixed train-test split could be used.', 'sensitive_data': '- Gender\\n- Income\\n- Education level', 'preprocessing_description': 'Bucketing of age', 'variable_info': '- Diabetes diagnosis\\n- Demographics (race, sex)\\n- Personal information (income, educations)\\n- Health history (drinking, smoking, mental health, physical health)', 'citation': None}, 'external_url': 'https://www.kaggle.com/datasets/alexteboul/diabetes-health-indicators-dataset'}\n",
      "                    name     role     type      demographic  \\\n",
      "0                     ID       ID  Integer             None   \n",
      "1        Diabetes_binary   Target   Binary             None   \n",
      "2                 HighBP  Feature   Binary             None   \n",
      "3               HighChol  Feature   Binary             None   \n",
      "4              CholCheck  Feature   Binary             None   \n",
      "5                    BMI  Feature  Integer             None   \n",
      "6                 Smoker  Feature   Binary             None   \n",
      "7                 Stroke  Feature   Binary             None   \n",
      "8   HeartDiseaseorAttack  Feature   Binary             None   \n",
      "9           PhysActivity  Feature   Binary             None   \n",
      "10                Fruits  Feature   Binary             None   \n",
      "11               Veggies  Feature   Binary             None   \n",
      "12     HvyAlcoholConsump  Feature   Binary             None   \n",
      "13         AnyHealthcare  Feature   Binary             None   \n",
      "14           NoDocbcCost  Feature   Binary             None   \n",
      "15               GenHlth  Feature  Integer             None   \n",
      "16              MentHlth  Feature  Integer             None   \n",
      "17              PhysHlth  Feature  Integer             None   \n",
      "18              DiffWalk  Feature   Binary             None   \n",
      "19                   Sex  Feature   Binary              Sex   \n",
      "20                   Age  Feature  Integer              Age   \n",
      "21             Education  Feature  Integer  Education Level   \n",
      "22                Income  Feature  Integer           Income   \n",
      "\n",
      "                                          description units missing_values  \n",
      "0                                          Patient ID  None             no  \n",
      "1         0 = no diabetes 1 = prediabetes or diabetes  None             no  \n",
      "2                          0 = no high BP 1 = high BP  None             no  \n",
      "3        0 = no high cholesterol 1 = high cholesterol  None             no  \n",
      "4   0 = no cholesterol check in 5 years 1 = yes ch...  None             no  \n",
      "5                                     Body Mass Index  None             no  \n",
      "6   Have you smoked at least 100 cigarettes in you...  None             no  \n",
      "7        (Ever told) you had a stroke. 0 = no 1 = yes  None             no  \n",
      "8   coronary heart disease (CHD) or myocardial inf...  None             no  \n",
      "9   physical activity in past 30 days - not includ...  None             no  \n",
      "10  Consume Fruit 1 or more times per day 0 = no 1...  None             no  \n",
      "11  Consume Vegetables 1 or more times per day 0 =...  None             no  \n",
      "12  Heavy drinkers (adult men having more than 14 ...  None             no  \n",
      "13  Have any kind of health care coverage, includi...  None             no  \n",
      "14  Was there a time in the past 12 months when yo...  None             no  \n",
      "15  Would you say that in general your health is: ...  None             no  \n",
      "16  Now thinking about your mental health, which i...  None             no  \n",
      "17  Now thinking about your physical health, which...  None             no  \n",
      "18  Do you have serious difficulty walking or clim...  None             no  \n",
      "19                                0 = female 1 = male  None             no  \n",
      "20  13-level age category (_AGEG5YR see codebook) ...  None             no  \n",
      "21  Education level (EDUCA see codebook) scale 1-6...  None             no  \n",
      "22  Income scale (INCOME2 see codebook) scale 1-8 ...  None             no  \n"
     ]
    }
   ],
   "source": [
    "from ucimlrepo import fetch_ucirepo\n",
    "\n",
    "cdc_diabetes_health_indicators = fetch_ucirepo(id=891)\n",
    "\n",
    "X = cdc_diabetes_health_indicators.data.features\n",
    "y = cdc_diabetes_health_indicators.data.targets\n",
    "\n",
    "print(cdc_diabetes_health_indicators.metadata)\n",
    "\n",
    "print(cdc_diabetes_health_indicators.variables) "
   ],
   "metadata": {
    "collapsed": false,
    "ExecuteTime": {
     "end_time": "2023-10-26T14:11:13.499981800Z",
     "start_time": "2023-10-26T14:10:19.387921200Z"
    }
   },
   "id": "847d10c5066a3502"
  },
  {
   "cell_type": "code",
   "execution_count": 46,
   "outputs": [],
   "source": [
    "import pandas as pd\n",
    "import numpy as np"
   ],
   "metadata": {
    "collapsed": false,
    "ExecuteTime": {
     "end_time": "2023-10-26T14:11:13.513875800Z",
     "start_time": "2023-10-26T14:11:13.511710900Z"
    }
   },
   "id": "207aac432f584da4"
  },
  {
   "cell_type": "code",
   "execution_count": 47,
   "outputs": [],
   "source": [
    "def mondrian_k_anonymity(df, k, sensitive_attribute):\n",
    "    # Sort the dataframe by the sensitive attribute\n",
    "    df = df.sort_values(by=sensitive_attribute)\n",
    "\n",
    "    # Calculate the number of records in each partition\n",
    "    partition_size = len(df) // k\n",
    "\n",
    "    # Initialize a list to store the anonymized partitions\n",
    "    partitions = []\n",
    "\n",
    "    # Split the dataset into partitions\n",
    "    for i in range(0, len(df), partition_size):\n",
    "        partition = df.iloc[i:i+partition_size]\n",
    "        partitions.append(partition)\n",
    "\n",
    "    # Generalize the quasi-identifiers within each partition\n",
    "    for partition in partitions:\n",
    "        for column in df.columns:\n",
    "            if column != sensitive_attribute:\n",
    "                # Generalization strategy\n",
    "                if df[column].dtype == 'int64':\n",
    "                    partition[column] = round(partition[column].mean())\n",
    "                else:\n",
    "                    # For categorical attributes, select the most common value\n",
    "                    mode_value = partition[column].mode().iloc[0]\n",
    "                    partition[column] = mode_value\n",
    "\n",
    "    return partitions\n"
   ],
   "metadata": {
    "collapsed": false,
    "ExecuteTime": {
     "end_time": "2023-10-26T14:11:13.549506300Z",
     "start_time": "2023-10-26T14:11:13.531052800Z"
    }
   },
   "id": "6bafb379b0e1faca"
  },
  {
   "cell_type": "code",
   "execution_count": 48,
   "outputs": [
    {
     "data": {
      "text/plain": "   HighBP  HighChol  CholCheck  BMI  Smoker  Stroke  HeartDiseaseorAttack  \\\n0       1         1          1   40       1       0                     0   \n1       0         0          0   25       1       0                     0   \n2       1         1          1   28       0       0                     0   \n3       1         0          1   27       0       0                     0   \n4       1         1          1   24       0       0                     0   \n\n   PhysActivity  Fruits  Veggies  ...  NoDocbcCost  GenHlth  MentHlth  \\\n0             0       0        1  ...            0        5        18   \n1             1       0        0  ...            1        3         0   \n2             0       1        0  ...            1        5        30   \n3             1       1        1  ...            0        2         0   \n4             1       1        1  ...            0        2         3   \n\n   PhysHlth  DiffWalk  Sex  Age  Education  Income  Diabetes  \n0        15         1    0    9          4       3         0  \n1         0         0    0    7          6       1         0  \n2        30         1    0    9          4       8         0  \n3         0         0    0   11          3       6         0  \n4         0         0    0   11          5       4         0  \n\n[5 rows x 22 columns]",
      "text/html": "<div>\n<style scoped>\n    .dataframe tbody tr th:only-of-type {\n        vertical-align: middle;\n    }\n\n    .dataframe tbody tr th {\n        vertical-align: top;\n    }\n\n    .dataframe thead th {\n        text-align: right;\n    }\n</style>\n<table border=\"1\" class=\"dataframe\">\n  <thead>\n    <tr style=\"text-align: right;\">\n      <th></th>\n      <th>HighBP</th>\n      <th>HighChol</th>\n      <th>CholCheck</th>\n      <th>BMI</th>\n      <th>Smoker</th>\n      <th>Stroke</th>\n      <th>HeartDiseaseorAttack</th>\n      <th>PhysActivity</th>\n      <th>Fruits</th>\n      <th>Veggies</th>\n      <th>...</th>\n      <th>NoDocbcCost</th>\n      <th>GenHlth</th>\n      <th>MentHlth</th>\n      <th>PhysHlth</th>\n      <th>DiffWalk</th>\n      <th>Sex</th>\n      <th>Age</th>\n      <th>Education</th>\n      <th>Income</th>\n      <th>Diabetes</th>\n    </tr>\n  </thead>\n  <tbody>\n    <tr>\n      <th>0</th>\n      <td>1</td>\n      <td>1</td>\n      <td>1</td>\n      <td>40</td>\n      <td>1</td>\n      <td>0</td>\n      <td>0</td>\n      <td>0</td>\n      <td>0</td>\n      <td>1</td>\n      <td>...</td>\n      <td>0</td>\n      <td>5</td>\n      <td>18</td>\n      <td>15</td>\n      <td>1</td>\n      <td>0</td>\n      <td>9</td>\n      <td>4</td>\n      <td>3</td>\n      <td>0</td>\n    </tr>\n    <tr>\n      <th>1</th>\n      <td>0</td>\n      <td>0</td>\n      <td>0</td>\n      <td>25</td>\n      <td>1</td>\n      <td>0</td>\n      <td>0</td>\n      <td>1</td>\n      <td>0</td>\n      <td>0</td>\n      <td>...</td>\n      <td>1</td>\n      <td>3</td>\n      <td>0</td>\n      <td>0</td>\n      <td>0</td>\n      <td>0</td>\n      <td>7</td>\n      <td>6</td>\n      <td>1</td>\n      <td>0</td>\n    </tr>\n    <tr>\n      <th>2</th>\n      <td>1</td>\n      <td>1</td>\n      <td>1</td>\n      <td>28</td>\n      <td>0</td>\n      <td>0</td>\n      <td>0</td>\n      <td>0</td>\n      <td>1</td>\n      <td>0</td>\n      <td>...</td>\n      <td>1</td>\n      <td>5</td>\n      <td>30</td>\n      <td>30</td>\n      <td>1</td>\n      <td>0</td>\n      <td>9</td>\n      <td>4</td>\n      <td>8</td>\n      <td>0</td>\n    </tr>\n    <tr>\n      <th>3</th>\n      <td>1</td>\n      <td>0</td>\n      <td>1</td>\n      <td>27</td>\n      <td>0</td>\n      <td>0</td>\n      <td>0</td>\n      <td>1</td>\n      <td>1</td>\n      <td>1</td>\n      <td>...</td>\n      <td>0</td>\n      <td>2</td>\n      <td>0</td>\n      <td>0</td>\n      <td>0</td>\n      <td>0</td>\n      <td>11</td>\n      <td>3</td>\n      <td>6</td>\n      <td>0</td>\n    </tr>\n    <tr>\n      <th>4</th>\n      <td>1</td>\n      <td>1</td>\n      <td>1</td>\n      <td>24</td>\n      <td>0</td>\n      <td>0</td>\n      <td>0</td>\n      <td>1</td>\n      <td>1</td>\n      <td>1</td>\n      <td>...</td>\n      <td>0</td>\n      <td>2</td>\n      <td>3</td>\n      <td>0</td>\n      <td>0</td>\n      <td>0</td>\n      <td>11</td>\n      <td>5</td>\n      <td>4</td>\n      <td>0</td>\n    </tr>\n  </tbody>\n</table>\n<p>5 rows × 22 columns</p>\n</div>"
     },
     "execution_count": 48,
     "metadata": {},
     "output_type": "execute_result"
    }
   ],
   "source": [
    "encoded_df = X.copy()\n",
    "encoded_df['Diabetes'] = y\n",
    "encoded_df.head()"
   ],
   "metadata": {
    "collapsed": false,
    "ExecuteTime": {
     "end_time": "2023-10-26T14:11:13.592789Z",
     "start_time": "2023-10-26T14:11:13.542338100Z"
    }
   },
   "id": "dd9cddaa4508f1b8"
  },
  {
   "cell_type": "code",
   "execution_count": 49,
   "outputs": [
    {
     "data": {
      "text/plain": "        HighBP  HighChol  CholCheck  BMI  Smoker  Stroke  \\\n213499       1         1          1   25       1       0   \n22469        1         0          1   21       0       0   \n187030       1         0          1   23       1       0   \n59104        0         0          1   20       1       0   \n250454       1         1          1   27       1       0   \n\n        HeartDiseaseorAttack  PhysActivity  Fruits  Veggies  ...  NoDocbcCost  \\\n213499                     1             0       0        0  ...            0   \n22469                      0             1       1        1  ...            0   \n187030                     0             1       1        1  ...            1   \n59104                      0             0       0        1  ...            0   \n250454                     0             1       0        1  ...            0   \n\n        GenHlth  MentHlth  PhysHlth  DiffWalk  Sex  Age  Education  Income  \\\n213499        3         0         0         1    1    8          2       2   \n22469         2         0         0         0    0   12          4       7   \n187030        2        30        14         0    1    2          6       6   \n59104         3        10         2         0    1    2          4       8   \n250454        1         0         3         0    0   13          5       5   \n\n        Diabetes  \n213499         0  \n22469          0  \n187030         0  \n59104          0  \n250454         0  \n\n[5 rows x 22 columns]",
      "text/html": "<div>\n<style scoped>\n    .dataframe tbody tr th:only-of-type {\n        vertical-align: middle;\n    }\n\n    .dataframe tbody tr th {\n        vertical-align: top;\n    }\n\n    .dataframe thead th {\n        text-align: right;\n    }\n</style>\n<table border=\"1\" class=\"dataframe\">\n  <thead>\n    <tr style=\"text-align: right;\">\n      <th></th>\n      <th>HighBP</th>\n      <th>HighChol</th>\n      <th>CholCheck</th>\n      <th>BMI</th>\n      <th>Smoker</th>\n      <th>Stroke</th>\n      <th>HeartDiseaseorAttack</th>\n      <th>PhysActivity</th>\n      <th>Fruits</th>\n      <th>Veggies</th>\n      <th>...</th>\n      <th>NoDocbcCost</th>\n      <th>GenHlth</th>\n      <th>MentHlth</th>\n      <th>PhysHlth</th>\n      <th>DiffWalk</th>\n      <th>Sex</th>\n      <th>Age</th>\n      <th>Education</th>\n      <th>Income</th>\n      <th>Diabetes</th>\n    </tr>\n  </thead>\n  <tbody>\n    <tr>\n      <th>213499</th>\n      <td>1</td>\n      <td>1</td>\n      <td>1</td>\n      <td>25</td>\n      <td>1</td>\n      <td>0</td>\n      <td>1</td>\n      <td>0</td>\n      <td>0</td>\n      <td>0</td>\n      <td>...</td>\n      <td>0</td>\n      <td>3</td>\n      <td>0</td>\n      <td>0</td>\n      <td>1</td>\n      <td>1</td>\n      <td>8</td>\n      <td>2</td>\n      <td>2</td>\n      <td>0</td>\n    </tr>\n    <tr>\n      <th>22469</th>\n      <td>1</td>\n      <td>0</td>\n      <td>1</td>\n      <td>21</td>\n      <td>0</td>\n      <td>0</td>\n      <td>0</td>\n      <td>1</td>\n      <td>1</td>\n      <td>1</td>\n      <td>...</td>\n      <td>0</td>\n      <td>2</td>\n      <td>0</td>\n      <td>0</td>\n      <td>0</td>\n      <td>0</td>\n      <td>12</td>\n      <td>4</td>\n      <td>7</td>\n      <td>0</td>\n    </tr>\n    <tr>\n      <th>187030</th>\n      <td>1</td>\n      <td>0</td>\n      <td>1</td>\n      <td>23</td>\n      <td>1</td>\n      <td>0</td>\n      <td>0</td>\n      <td>1</td>\n      <td>1</td>\n      <td>1</td>\n      <td>...</td>\n      <td>1</td>\n      <td>2</td>\n      <td>30</td>\n      <td>14</td>\n      <td>0</td>\n      <td>1</td>\n      <td>2</td>\n      <td>6</td>\n      <td>6</td>\n      <td>0</td>\n    </tr>\n    <tr>\n      <th>59104</th>\n      <td>0</td>\n      <td>0</td>\n      <td>1</td>\n      <td>20</td>\n      <td>1</td>\n      <td>0</td>\n      <td>0</td>\n      <td>0</td>\n      <td>0</td>\n      <td>1</td>\n      <td>...</td>\n      <td>0</td>\n      <td>3</td>\n      <td>10</td>\n      <td>2</td>\n      <td>0</td>\n      <td>1</td>\n      <td>2</td>\n      <td>4</td>\n      <td>8</td>\n      <td>0</td>\n    </tr>\n    <tr>\n      <th>250454</th>\n      <td>1</td>\n      <td>1</td>\n      <td>1</td>\n      <td>27</td>\n      <td>1</td>\n      <td>0</td>\n      <td>0</td>\n      <td>1</td>\n      <td>0</td>\n      <td>1</td>\n      <td>...</td>\n      <td>0</td>\n      <td>1</td>\n      <td>0</td>\n      <td>3</td>\n      <td>0</td>\n      <td>0</td>\n      <td>13</td>\n      <td>5</td>\n      <td>5</td>\n      <td>0</td>\n    </tr>\n  </tbody>\n</table>\n<p>5 rows × 22 columns</p>\n</div>"
     },
     "execution_count": 49,
     "metadata": {},
     "output_type": "execute_result"
    }
   ],
   "source": [
    "from sklearn.model_selection import train_test_split\n",
    "\n",
    "features_train,features_test,labels_train,labels_test = train_test_split(\n",
    "    encoded_df,np.ones(len(encoded_df)),random_state=17,test_size=0.2\n",
    ")\n",
    "features_train.head()"
   ],
   "metadata": {
    "collapsed": false,
    "ExecuteTime": {
     "end_time": "2023-10-26T14:11:13.830923600Z",
     "start_time": "2023-10-26T14:11:13.577132500Z"
    }
   },
   "id": "9f9c477716b1838"
  },
  {
   "cell_type": "code",
   "execution_count": 50,
   "outputs": [
    {
     "data": {
      "text/plain": "        HighBP  HighChol  CholCheck  BMI  Smoker  Stroke  \\\n81110        1         1          1   37       0       0   \n199303       0         0          1   26       0       0   \n217732       1         1          1   30       1       1   \n123241       1         0          1   27       0       0   \n114291       0         0          1   22       0       0   \n\n        HeartDiseaseorAttack  PhysActivity  Fruits  Veggies  ...  NoDocbcCost  \\\n81110                      0             1       0        1  ...            0   \n199303                     0             0       0        1  ...            0   \n217732                     0             0       1        1  ...            0   \n123241                     0             1       1        1  ...            1   \n114291                     0             1       0        1  ...            0   \n\n        GenHlth  MentHlth  PhysHlth  DiffWalk  Sex  Age  Education  Income  \\\n81110         3         0         0         0    1    5          5       7   \n199303        2         0         0         0    1    6          4       6   \n217732        2         0        30         1    0   10          6       5   \n123241        3         0         0         0    0    5          4       6   \n114291        2        30         0         0    0    9          6       8   \n\n        Diabetes  \n81110          0  \n199303         0  \n217732         0  \n123241         0  \n114291         0  \n\n[5 rows x 22 columns]",
      "text/html": "<div>\n<style scoped>\n    .dataframe tbody tr th:only-of-type {\n        vertical-align: middle;\n    }\n\n    .dataframe tbody tr th {\n        vertical-align: top;\n    }\n\n    .dataframe thead th {\n        text-align: right;\n    }\n</style>\n<table border=\"1\" class=\"dataframe\">\n  <thead>\n    <tr style=\"text-align: right;\">\n      <th></th>\n      <th>HighBP</th>\n      <th>HighChol</th>\n      <th>CholCheck</th>\n      <th>BMI</th>\n      <th>Smoker</th>\n      <th>Stroke</th>\n      <th>HeartDiseaseorAttack</th>\n      <th>PhysActivity</th>\n      <th>Fruits</th>\n      <th>Veggies</th>\n      <th>...</th>\n      <th>NoDocbcCost</th>\n      <th>GenHlth</th>\n      <th>MentHlth</th>\n      <th>PhysHlth</th>\n      <th>DiffWalk</th>\n      <th>Sex</th>\n      <th>Age</th>\n      <th>Education</th>\n      <th>Income</th>\n      <th>Diabetes</th>\n    </tr>\n  </thead>\n  <tbody>\n    <tr>\n      <th>81110</th>\n      <td>1</td>\n      <td>1</td>\n      <td>1</td>\n      <td>37</td>\n      <td>0</td>\n      <td>0</td>\n      <td>0</td>\n      <td>1</td>\n      <td>0</td>\n      <td>1</td>\n      <td>...</td>\n      <td>0</td>\n      <td>3</td>\n      <td>0</td>\n      <td>0</td>\n      <td>0</td>\n      <td>1</td>\n      <td>5</td>\n      <td>5</td>\n      <td>7</td>\n      <td>0</td>\n    </tr>\n    <tr>\n      <th>199303</th>\n      <td>0</td>\n      <td>0</td>\n      <td>1</td>\n      <td>26</td>\n      <td>0</td>\n      <td>0</td>\n      <td>0</td>\n      <td>0</td>\n      <td>0</td>\n      <td>1</td>\n      <td>...</td>\n      <td>0</td>\n      <td>2</td>\n      <td>0</td>\n      <td>0</td>\n      <td>0</td>\n      <td>1</td>\n      <td>6</td>\n      <td>4</td>\n      <td>6</td>\n      <td>0</td>\n    </tr>\n    <tr>\n      <th>217732</th>\n      <td>1</td>\n      <td>1</td>\n      <td>1</td>\n      <td>30</td>\n      <td>1</td>\n      <td>1</td>\n      <td>0</td>\n      <td>0</td>\n      <td>1</td>\n      <td>1</td>\n      <td>...</td>\n      <td>0</td>\n      <td>2</td>\n      <td>0</td>\n      <td>30</td>\n      <td>1</td>\n      <td>0</td>\n      <td>10</td>\n      <td>6</td>\n      <td>5</td>\n      <td>0</td>\n    </tr>\n    <tr>\n      <th>123241</th>\n      <td>1</td>\n      <td>0</td>\n      <td>1</td>\n      <td>27</td>\n      <td>0</td>\n      <td>0</td>\n      <td>0</td>\n      <td>1</td>\n      <td>1</td>\n      <td>1</td>\n      <td>...</td>\n      <td>1</td>\n      <td>3</td>\n      <td>0</td>\n      <td>0</td>\n      <td>0</td>\n      <td>0</td>\n      <td>5</td>\n      <td>4</td>\n      <td>6</td>\n      <td>0</td>\n    </tr>\n    <tr>\n      <th>114291</th>\n      <td>0</td>\n      <td>0</td>\n      <td>1</td>\n      <td>22</td>\n      <td>0</td>\n      <td>0</td>\n      <td>0</td>\n      <td>1</td>\n      <td>0</td>\n      <td>1</td>\n      <td>...</td>\n      <td>0</td>\n      <td>2</td>\n      <td>30</td>\n      <td>0</td>\n      <td>0</td>\n      <td>0</td>\n      <td>9</td>\n      <td>6</td>\n      <td>8</td>\n      <td>0</td>\n    </tr>\n  </tbody>\n</table>\n<p>5 rows × 22 columns</p>\n</div>"
     },
     "execution_count": 50,
     "metadata": {},
     "output_type": "execute_result"
    }
   ],
   "source": [
    "features_test.head()"
   ],
   "metadata": {
    "collapsed": false,
    "ExecuteTime": {
     "end_time": "2023-10-26T14:11:13.830923600Z",
     "start_time": "2023-10-26T14:11:13.802875800Z"
    }
   },
   "id": "ea79bafe7944b9c1"
  },
  {
   "cell_type": "code",
   "execution_count": 51,
   "outputs": [
    {
     "name": "stderr",
     "output_type": "stream",
     "text": [
      "C:\\Users\\wayko\\AppData\\Local\\Temp\\ipykernel_12524\\1795964462.py:22: SettingWithCopyWarning: \n",
      "A value is trying to be set on a copy of a slice from a DataFrame.\n",
      "Try using .loc[row_indexer,col_indexer] = value instead\n",
      "\n",
      "See the caveats in the documentation: https://pandas.pydata.org/pandas-docs/stable/user_guide/indexing.html#returning-a-view-versus-a-copy\n",
      "  partition[column] = round(partition[column].mean())\n"
     ]
    },
    {
     "name": "stdout",
     "output_type": "stream",
     "text": [
      "Partition 1 (Sensitive Value: 0):\n",
      "        HighBP  HighChol  CholCheck  BMI  Smoker  Stroke  \\\n",
      "0            0         0          1   28       0       0   \n",
      "162451       0         0          1   28       0       0   \n",
      "162452       0         0          1   28       0       0   \n",
      "162453       0         0          1   28       0       0   \n",
      "162454       0         0          1   28       0       0   \n",
      "...        ...       ...        ...  ...     ...     ...   \n",
      "148840       0         0          1   28       0       0   \n",
      "148841       0         0          1   28       0       0   \n",
      "148842       0         0          1   28       0       0   \n",
      "148843       0         0          1   28       0       0   \n",
      "148844       0         0          1   28       0       0   \n",
      "\n",
      "        HeartDiseaseorAttack  PhysActivity  Fruits  Veggies  ...  NoDocbcCost  \\\n",
      "0                          0             1       1        1  ...            0   \n",
      "162451                     0             1       1        1  ...            0   \n",
      "162452                     0             1       1        1  ...            0   \n",
      "162453                     0             1       1        1  ...            0   \n",
      "162454                     0             1       1        1  ...            0   \n",
      "...                      ...           ...     ...      ...  ...          ...   \n",
      "148840                     0             1       1        1  ...            0   \n",
      "148841                     0             1       1        1  ...            0   \n",
      "148842                     0             1       1        1  ...            0   \n",
      "148843                     0             1       1        1  ...            0   \n",
      "148844                     0             1       1        1  ...            0   \n",
      "\n",
      "        GenHlth  MentHlth  PhysHlth  DiffWalk  Sex  Age  Education  Income  \\\n",
      "0             2         3         4         0    0    8          5       6   \n",
      "162451        2         3         4         0    0    8          5       6   \n",
      "162452        2         3         4         0    0    8          5       6   \n",
      "162453        2         3         4         0    0    8          5       6   \n",
      "162454        2         3         4         0    0    8          5       6   \n",
      "...         ...       ...       ...       ...  ...  ...        ...     ...   \n",
      "148840        2         3         4         0    0    8          5       6   \n",
      "148841        2         3         4         0    0    8          5       6   \n",
      "148842        2         3         4         0    0    8          5       6   \n",
      "148843        2         3         4         0    0    8          5       6   \n",
      "148844        2         3         4         0    0    8          5       6   \n",
      "\n",
      "        Diabetes  \n",
      "0              0  \n",
      "162451         0  \n",
      "162452         0  \n",
      "162453         0  \n",
      "162454         0  \n",
      "...          ...  \n",
      "148840         0  \n",
      "148841         0  \n",
      "148842         0  \n",
      "148843         0  \n",
      "148844         0  \n",
      "\n",
      "[50736 rows x 22 columns]\n",
      "\n",
      "Partition 2 (Sensitive Value: 0):\n",
      "        HighBP  HighChol  CholCheck  BMI  Smoker  Stroke  \\\n",
      "148845       0         0          1   28       0       0   \n",
      "148846       0         0          1   28       0       0   \n",
      "148847       0         0          1   28       0       0   \n",
      "148850       0         0          1   28       0       0   \n",
      "148851       0         0          1   28       0       0   \n",
      "...        ...       ...        ...  ...     ...     ...   \n",
      "190109       0         0          1   28       0       0   \n",
      "190080       0         0          1   28       0       0   \n",
      "190081       0         0          1   28       0       0   \n",
      "190083       0         0          1   28       0       0   \n",
      "190084       0         0          1   28       0       0   \n",
      "\n",
      "        HeartDiseaseorAttack  PhysActivity  Fruits  Veggies  ...  NoDocbcCost  \\\n",
      "148845                     0             1       1        1  ...            0   \n",
      "148846                     0             1       1        1  ...            0   \n",
      "148847                     0             1       1        1  ...            0   \n",
      "148850                     0             1       1        1  ...            0   \n",
      "148851                     0             1       1        1  ...            0   \n",
      "...                      ...           ...     ...      ...  ...          ...   \n",
      "190109                     0             1       1        1  ...            0   \n",
      "190080                     0             1       1        1  ...            0   \n",
      "190081                     0             1       1        1  ...            0   \n",
      "190083                     0             1       1        1  ...            0   \n",
      "190084                     0             1       1        1  ...            0   \n",
      "\n",
      "        GenHlth  MentHlth  PhysHlth  DiffWalk  Sex  Age  Education  Income  \\\n",
      "148845        2         3         4         0    0    8          5       6   \n",
      "148846        2         3         4         0    0    8          5       6   \n",
      "148847        2         3         4         0    0    8          5       6   \n",
      "148850        2         3         4         0    0    8          5       6   \n",
      "148851        2         3         4         0    0    8          5       6   \n",
      "...         ...       ...       ...       ...  ...  ...        ...     ...   \n",
      "190109        2         3         4         0    0    8          5       6   \n",
      "190080        2         3         4         0    0    8          5       6   \n",
      "190081        2         3         4         0    0    8          5       6   \n",
      "190083        2         3         4         0    0    8          5       6   \n",
      "190084        2         3         4         0    0    8          5       6   \n",
      "\n",
      "        Diabetes  \n",
      "148845         0  \n",
      "148846         0  \n",
      "148847         0  \n",
      "148850         0  \n",
      "148851         0  \n",
      "...          ...  \n",
      "190109         0  \n",
      "190080         0  \n",
      "190081         0  \n",
      "190083         0  \n",
      "190084         0  \n",
      "\n",
      "[50736 rows x 22 columns]\n",
      "\n",
      "Partition 3 (Sensitive Value: 0):\n",
      "        HighBP  HighChol  CholCheck  BMI  Smoker  Stroke  \\\n",
      "190085       0         0          1   28       0       0   \n",
      "190086       0         0          1   28       0       0   \n",
      "190087       0         0          1   28       0       0   \n",
      "190088       0         0          1   28       0       0   \n",
      "190089       0         0          1   28       0       0   \n",
      "...        ...       ...        ...  ...     ...     ...   \n",
      "13056        0         0          1   28       0       0   \n",
      "13044        0         0          1   28       0       0   \n",
      "13057        0         0          1   28       0       0   \n",
      "13024        0         0          1   28       0       0   \n",
      "13021        0         0          1   28       0       0   \n",
      "\n",
      "        HeartDiseaseorAttack  PhysActivity  Fruits  Veggies  ...  NoDocbcCost  \\\n",
      "190085                     0             1       1        1  ...            0   \n",
      "190086                     0             1       1        1  ...            0   \n",
      "190087                     0             1       1        1  ...            0   \n",
      "190088                     0             1       1        1  ...            0   \n",
      "190089                     0             1       1        1  ...            0   \n",
      "...                      ...           ...     ...      ...  ...          ...   \n",
      "13056                      0             1       1        1  ...            0   \n",
      "13044                      0             1       1        1  ...            0   \n",
      "13057                      0             1       1        1  ...            0   \n",
      "13024                      0             1       1        1  ...            0   \n",
      "13021                      0             1       1        1  ...            0   \n",
      "\n",
      "        GenHlth  MentHlth  PhysHlth  DiffWalk  Sex  Age  Education  Income  \\\n",
      "190085        2         3         4         0    0    8          5       6   \n",
      "190086        2         3         4         0    0    8          5       6   \n",
      "190087        2         3         4         0    0    8          5       6   \n",
      "190088        2         3         4         0    0    8          5       6   \n",
      "190089        2         3         4         0    0    8          5       6   \n",
      "...         ...       ...       ...       ...  ...  ...        ...     ...   \n",
      "13056         2         3         4         0    0    8          5       6   \n",
      "13044         2         3         4         0    0    8          5       6   \n",
      "13057         2         3         4         0    0    8          5       6   \n",
      "13024         2         3         4         0    0    8          5       6   \n",
      "13021         2         3         4         0    0    8          5       6   \n",
      "\n",
      "        Diabetes  \n",
      "190085         0  \n",
      "190086         0  \n",
      "190087         0  \n",
      "190088         0  \n",
      "190089         0  \n",
      "...          ...  \n",
      "13056          0  \n",
      "13044          0  \n",
      "13057          0  \n",
      "13024          0  \n",
      "13021          0  \n",
      "\n",
      "[50736 rows x 22 columns]\n",
      "\n",
      "Partition 4 (Sensitive Value: 0):\n",
      "       HighBP  HighChol  CholCheck  BMI  Smoker  Stroke  HeartDiseaseorAttack  \\\n",
      "12994       0         0          1   28       0       0                     0   \n",
      "12995       0         0          1   28       0       0                     0   \n",
      "12996       0         0          1   28       0       0                     0   \n",
      "12997       0         0          1   28       0       0                     0   \n",
      "12998       0         0          1   28       0       0                     0   \n",
      "...       ...       ...        ...  ...     ...     ...                   ...   \n",
      "77176       0         0          1   28       0       0                     0   \n",
      "77177       0         0          1   28       0       0                     0   \n",
      "77178       0         0          1   28       0       0                     0   \n",
      "77195       0         0          1   28       0       0                     0   \n",
      "77179       0         0          1   28       0       0                     0   \n",
      "\n",
      "       PhysActivity  Fruits  Veggies  ...  NoDocbcCost  GenHlth  MentHlth  \\\n",
      "12994             1       1        1  ...            0        2         3   \n",
      "12995             1       1        1  ...            0        2         3   \n",
      "12996             1       1        1  ...            0        2         3   \n",
      "12997             1       1        1  ...            0        2         3   \n",
      "12998             1       1        1  ...            0        2         3   \n",
      "...             ...     ...      ...  ...          ...      ...       ...   \n",
      "77176             1       1        1  ...            0        2         3   \n",
      "77177             1       1        1  ...            0        2         3   \n",
      "77178             1       1        1  ...            0        2         3   \n",
      "77195             1       1        1  ...            0        2         3   \n",
      "77179             1       1        1  ...            0        2         3   \n",
      "\n",
      "       PhysHlth  DiffWalk  Sex  Age  Education  Income  Diabetes  \n",
      "12994         4         0    0    8          5       6         0  \n",
      "12995         4         0    0    8          5       6         0  \n",
      "12996         4         0    0    8          5       6         0  \n",
      "12997         4         0    0    8          5       6         0  \n",
      "12998         4         0    0    8          5       6         0  \n",
      "...         ...       ...  ...  ...        ...     ...       ...  \n",
      "77176         4         0    0    8          5       6         0  \n",
      "77177         4         0    0    8          5       6         0  \n",
      "77178         4         0    0    8          5       6         0  \n",
      "77195         4         0    0    8          5       6         0  \n",
      "77179         4         0    0    8          5       6         0  \n",
      "\n",
      "[50736 rows x 22 columns]\n",
      "\n",
      "Partition 5 (Sensitive Value: 0):\n",
      "        HighBP  HighChol  CholCheck  BMI  Smoker  Stroke  \\\n",
      "112963       1         1          1   31       0       0   \n",
      "69321        1         1          1   31       0       0   \n",
      "69320        1         1          1   31       0       0   \n",
      "116162       1         1          1   31       0       0   \n",
      "77181        1         1          1   31       0       0   \n",
      "...        ...       ...        ...  ...     ...     ...   \n",
      "209803       1         1          1   31       0       0   \n",
      "88874        1         1          1   31       0       0   \n",
      "37942        1         1          1   31       0       0   \n",
      "37954        1         1          1   31       0       0   \n",
      "253679       1         1          1   31       0       0   \n",
      "\n",
      "        HeartDiseaseorAttack  PhysActivity  Fruits  Veggies  ...  NoDocbcCost  \\\n",
      "112963                     0             1       1        1  ...            0   \n",
      "69321                      0             1       1        1  ...            0   \n",
      "69320                      0             1       1        1  ...            0   \n",
      "116162                     0             1       1        1  ...            0   \n",
      "77181                      0             1       1        1  ...            0   \n",
      "...                      ...           ...     ...      ...  ...          ...   \n",
      "209803                     0             1       1        1  ...            0   \n",
      "88874                      0             1       1        1  ...            0   \n",
      "37942                      0             1       1        1  ...            0   \n",
      "37954                      0             1       1        1  ...            0   \n",
      "253679                     0             1       1        1  ...            0   \n",
      "\n",
      "        GenHlth  MentHlth  PhysHlth  DiffWalk  Sex  Age  Education  Income  \\\n",
      "112963        3         4         7         0    0    9          5       6   \n",
      "69321         3         4         7         0    0    9          5       6   \n",
      "69320         3         4         7         0    0    9          5       6   \n",
      "116162        3         4         7         0    0    9          5       6   \n",
      "77181         3         4         7         0    0    9          5       6   \n",
      "...         ...       ...       ...       ...  ...  ...        ...     ...   \n",
      "209803        3         4         7         0    0    9          5       6   \n",
      "88874         3         4         7         0    0    9          5       6   \n",
      "37942         3         4         7         0    0    9          5       6   \n",
      "37954         3         4         7         0    0    9          5       6   \n",
      "253679        3         4         7         0    0    9          5       6   \n",
      "\n",
      "        Diabetes  \n",
      "112963         0  \n",
      "69321          0  \n",
      "69320          0  \n",
      "116162         0  \n",
      "77181          0  \n",
      "...          ...  \n",
      "209803         1  \n",
      "88874          1  \n",
      "37942          1  \n",
      "37954          1  \n",
      "253679         1  \n",
      "\n",
      "[50736 rows x 22 columns]\n"
     ]
    }
   ],
   "source": [
    "k = 5\n",
    "sensitive_attribute = encoded_df.columns[-1]\n",
    "\n",
    "partitioned_data = mondrian_k_anonymity(encoded_df, k, sensitive_attribute)\n",
    "\n",
    "for idx, partition in enumerate(partitioned_data):\n",
    "    print(f\"Partition {idx + 1} (Sensitive Value: {partition[sensitive_attribute].iloc[0]}):\")\n",
    "    print(partition,end='\\n\\n')\n",
    "\n",
    "anonymized_df = pd.concat(partitioned_data)"
   ],
   "metadata": {
    "collapsed": false,
    "ExecuteTime": {
     "end_time": "2023-10-26T14:11:14.368922600Z",
     "start_time": "2023-10-26T14:11:13.820423600Z"
    }
   },
   "id": "d72bc652bebb8f34"
  },
  {
   "cell_type": "code",
   "execution_count": 52,
   "outputs": [
    {
     "data": {
      "text/plain": "        HighBP  HighChol  CholCheck  BMI  Smoker  Stroke  \\\n0            0         0          1   28       0       0   \n162451       0         0          1   28       0       0   \n162452       0         0          1   28       0       0   \n162453       0         0          1   28       0       0   \n162454       0         0          1   28       0       0   \n\n        HeartDiseaseorAttack  PhysActivity  Fruits  Veggies  ...  NoDocbcCost  \\\n0                          0             1       1        1  ...            0   \n162451                     0             1       1        1  ...            0   \n162452                     0             1       1        1  ...            0   \n162453                     0             1       1        1  ...            0   \n162454                     0             1       1        1  ...            0   \n\n        GenHlth  MentHlth  PhysHlth  DiffWalk  Sex  Age  Education  Income  \\\n0             2         3         4         0    0    8          5       6   \n162451        2         3         4         0    0    8          5       6   \n162452        2         3         4         0    0    8          5       6   \n162453        2         3         4         0    0    8          5       6   \n162454        2         3         4         0    0    8          5       6   \n\n        Diabetes  \n0              0  \n162451         0  \n162452         0  \n162453         0  \n162454         0  \n\n[5 rows x 22 columns]",
      "text/html": "<div>\n<style scoped>\n    .dataframe tbody tr th:only-of-type {\n        vertical-align: middle;\n    }\n\n    .dataframe tbody tr th {\n        vertical-align: top;\n    }\n\n    .dataframe thead th {\n        text-align: right;\n    }\n</style>\n<table border=\"1\" class=\"dataframe\">\n  <thead>\n    <tr style=\"text-align: right;\">\n      <th></th>\n      <th>HighBP</th>\n      <th>HighChol</th>\n      <th>CholCheck</th>\n      <th>BMI</th>\n      <th>Smoker</th>\n      <th>Stroke</th>\n      <th>HeartDiseaseorAttack</th>\n      <th>PhysActivity</th>\n      <th>Fruits</th>\n      <th>Veggies</th>\n      <th>...</th>\n      <th>NoDocbcCost</th>\n      <th>GenHlth</th>\n      <th>MentHlth</th>\n      <th>PhysHlth</th>\n      <th>DiffWalk</th>\n      <th>Sex</th>\n      <th>Age</th>\n      <th>Education</th>\n      <th>Income</th>\n      <th>Diabetes</th>\n    </tr>\n  </thead>\n  <tbody>\n    <tr>\n      <th>0</th>\n      <td>0</td>\n      <td>0</td>\n      <td>1</td>\n      <td>28</td>\n      <td>0</td>\n      <td>0</td>\n      <td>0</td>\n      <td>1</td>\n      <td>1</td>\n      <td>1</td>\n      <td>...</td>\n      <td>0</td>\n      <td>2</td>\n      <td>3</td>\n      <td>4</td>\n      <td>0</td>\n      <td>0</td>\n      <td>8</td>\n      <td>5</td>\n      <td>6</td>\n      <td>0</td>\n    </tr>\n    <tr>\n      <th>162451</th>\n      <td>0</td>\n      <td>0</td>\n      <td>1</td>\n      <td>28</td>\n      <td>0</td>\n      <td>0</td>\n      <td>0</td>\n      <td>1</td>\n      <td>1</td>\n      <td>1</td>\n      <td>...</td>\n      <td>0</td>\n      <td>2</td>\n      <td>3</td>\n      <td>4</td>\n      <td>0</td>\n      <td>0</td>\n      <td>8</td>\n      <td>5</td>\n      <td>6</td>\n      <td>0</td>\n    </tr>\n    <tr>\n      <th>162452</th>\n      <td>0</td>\n      <td>0</td>\n      <td>1</td>\n      <td>28</td>\n      <td>0</td>\n      <td>0</td>\n      <td>0</td>\n      <td>1</td>\n      <td>1</td>\n      <td>1</td>\n      <td>...</td>\n      <td>0</td>\n      <td>2</td>\n      <td>3</td>\n      <td>4</td>\n      <td>0</td>\n      <td>0</td>\n      <td>8</td>\n      <td>5</td>\n      <td>6</td>\n      <td>0</td>\n    </tr>\n    <tr>\n      <th>162453</th>\n      <td>0</td>\n      <td>0</td>\n      <td>1</td>\n      <td>28</td>\n      <td>0</td>\n      <td>0</td>\n      <td>0</td>\n      <td>1</td>\n      <td>1</td>\n      <td>1</td>\n      <td>...</td>\n      <td>0</td>\n      <td>2</td>\n      <td>3</td>\n      <td>4</td>\n      <td>0</td>\n      <td>0</td>\n      <td>8</td>\n      <td>5</td>\n      <td>6</td>\n      <td>0</td>\n    </tr>\n    <tr>\n      <th>162454</th>\n      <td>0</td>\n      <td>0</td>\n      <td>1</td>\n      <td>28</td>\n      <td>0</td>\n      <td>0</td>\n      <td>0</td>\n      <td>1</td>\n      <td>1</td>\n      <td>1</td>\n      <td>...</td>\n      <td>0</td>\n      <td>2</td>\n      <td>3</td>\n      <td>4</td>\n      <td>0</td>\n      <td>0</td>\n      <td>8</td>\n      <td>5</td>\n      <td>6</td>\n      <td>0</td>\n    </tr>\n  </tbody>\n</table>\n<p>5 rows × 22 columns</p>\n</div>"
     },
     "execution_count": 52,
     "metadata": {},
     "output_type": "execute_result"
    }
   ],
   "source": [
    "anonymized_df.head()"
   ],
   "metadata": {
    "collapsed": false,
    "ExecuteTime": {
     "end_time": "2023-10-26T14:11:14.368922600Z",
     "start_time": "2023-10-26T14:11:14.318932500Z"
    }
   },
   "id": "41add991ee121976"
  },
  {
   "cell_type": "code",
   "execution_count": 53,
   "outputs": [
    {
     "data": {
      "text/plain": "   HighBP  HighChol  CholCheck  BMI  Smoker  Stroke  HeartDiseaseorAttack  \\\n0       1         1          1   40       1       0                     0   \n1       0         0          0   25       1       0                     0   \n2       1         1          1   28       0       0                     0   \n3       1         0          1   27       0       0                     0   \n4       1         1          1   24       0       0                     0   \n\n   PhysActivity  Fruits  Veggies  ...  AnyHealthcare  NoDocbcCost  GenHlth  \\\n0             0       0        1  ...              1            0        5   \n1             1       0        0  ...              0            1        3   \n2             0       1        0  ...              1            1        5   \n3             1       1        1  ...              1            0        2   \n4             1       1        1  ...              1            0        2   \n\n   MentHlth  PhysHlth  DiffWalk  Sex  Age  Education  Income  \n0        18        15         1    0    9          4       3  \n1         0         0         0    0    7          6       1  \n2        30        30         1    0    9          4       8  \n3         0         0         0    0   11          3       6  \n4         3         0         0    0   11          5       4  \n\n[5 rows x 21 columns]",
      "text/html": "<div>\n<style scoped>\n    .dataframe tbody tr th:only-of-type {\n        vertical-align: middle;\n    }\n\n    .dataframe tbody tr th {\n        vertical-align: top;\n    }\n\n    .dataframe thead th {\n        text-align: right;\n    }\n</style>\n<table border=\"1\" class=\"dataframe\">\n  <thead>\n    <tr style=\"text-align: right;\">\n      <th></th>\n      <th>HighBP</th>\n      <th>HighChol</th>\n      <th>CholCheck</th>\n      <th>BMI</th>\n      <th>Smoker</th>\n      <th>Stroke</th>\n      <th>HeartDiseaseorAttack</th>\n      <th>PhysActivity</th>\n      <th>Fruits</th>\n      <th>Veggies</th>\n      <th>...</th>\n      <th>AnyHealthcare</th>\n      <th>NoDocbcCost</th>\n      <th>GenHlth</th>\n      <th>MentHlth</th>\n      <th>PhysHlth</th>\n      <th>DiffWalk</th>\n      <th>Sex</th>\n      <th>Age</th>\n      <th>Education</th>\n      <th>Income</th>\n    </tr>\n  </thead>\n  <tbody>\n    <tr>\n      <th>0</th>\n      <td>1</td>\n      <td>1</td>\n      <td>1</td>\n      <td>40</td>\n      <td>1</td>\n      <td>0</td>\n      <td>0</td>\n      <td>0</td>\n      <td>0</td>\n      <td>1</td>\n      <td>...</td>\n      <td>1</td>\n      <td>0</td>\n      <td>5</td>\n      <td>18</td>\n      <td>15</td>\n      <td>1</td>\n      <td>0</td>\n      <td>9</td>\n      <td>4</td>\n      <td>3</td>\n    </tr>\n    <tr>\n      <th>1</th>\n      <td>0</td>\n      <td>0</td>\n      <td>0</td>\n      <td>25</td>\n      <td>1</td>\n      <td>0</td>\n      <td>0</td>\n      <td>1</td>\n      <td>0</td>\n      <td>0</td>\n      <td>...</td>\n      <td>0</td>\n      <td>1</td>\n      <td>3</td>\n      <td>0</td>\n      <td>0</td>\n      <td>0</td>\n      <td>0</td>\n      <td>7</td>\n      <td>6</td>\n      <td>1</td>\n    </tr>\n    <tr>\n      <th>2</th>\n      <td>1</td>\n      <td>1</td>\n      <td>1</td>\n      <td>28</td>\n      <td>0</td>\n      <td>0</td>\n      <td>0</td>\n      <td>0</td>\n      <td>1</td>\n      <td>0</td>\n      <td>...</td>\n      <td>1</td>\n      <td>1</td>\n      <td>5</td>\n      <td>30</td>\n      <td>30</td>\n      <td>1</td>\n      <td>0</td>\n      <td>9</td>\n      <td>4</td>\n      <td>8</td>\n    </tr>\n    <tr>\n      <th>3</th>\n      <td>1</td>\n      <td>0</td>\n      <td>1</td>\n      <td>27</td>\n      <td>0</td>\n      <td>0</td>\n      <td>0</td>\n      <td>1</td>\n      <td>1</td>\n      <td>1</td>\n      <td>...</td>\n      <td>1</td>\n      <td>0</td>\n      <td>2</td>\n      <td>0</td>\n      <td>0</td>\n      <td>0</td>\n      <td>0</td>\n      <td>11</td>\n      <td>3</td>\n      <td>6</td>\n    </tr>\n    <tr>\n      <th>4</th>\n      <td>1</td>\n      <td>1</td>\n      <td>1</td>\n      <td>24</td>\n      <td>0</td>\n      <td>0</td>\n      <td>0</td>\n      <td>1</td>\n      <td>1</td>\n      <td>1</td>\n      <td>...</td>\n      <td>1</td>\n      <td>0</td>\n      <td>2</td>\n      <td>3</td>\n      <td>0</td>\n      <td>0</td>\n      <td>0</td>\n      <td>11</td>\n      <td>5</td>\n      <td>4</td>\n    </tr>\n  </tbody>\n</table>\n<p>5 rows × 21 columns</p>\n</div>"
     },
     "execution_count": 53,
     "metadata": {},
     "output_type": "execute_result"
    }
   ],
   "source": [
    "label = encoded_df.iloc[:,-1]\n",
    "encoded_df = encoded_df.iloc[:,:-1]\n",
    "encoded_df.head()"
   ],
   "metadata": {
    "collapsed": false,
    "ExecuteTime": {
     "end_time": "2023-10-26T14:11:14.513160700Z",
     "start_time": "2023-10-26T14:11:14.353285900Z"
    }
   },
   "id": "5d1ae052a78ddb39"
  },
  {
   "cell_type": "code",
   "execution_count": 54,
   "outputs": [
    {
     "data": {
      "text/plain": "0    0\n1    0\n2    0\n3    0\n4    0\nName: Diabetes, dtype: int64"
     },
     "execution_count": 54,
     "metadata": {},
     "output_type": "execute_result"
    }
   ],
   "source": [
    "label.head()"
   ],
   "metadata": {
    "collapsed": false,
    "ExecuteTime": {
     "end_time": "2023-10-26T14:11:14.564264Z",
     "start_time": "2023-10-26T14:11:14.407225800Z"
    }
   },
   "id": "b78e486c1ca15c41"
  },
  {
   "cell_type": "code",
   "execution_count": 55,
   "outputs": [
    {
     "data": {
      "text/plain": "KNeighborsClassifier()",
      "text/html": "<style>#sk-container-id-3 {color: black;}#sk-container-id-3 pre{padding: 0;}#sk-container-id-3 div.sk-toggleable {background-color: white;}#sk-container-id-3 label.sk-toggleable__label {cursor: pointer;display: block;width: 100%;margin-bottom: 0;padding: 0.3em;box-sizing: border-box;text-align: center;}#sk-container-id-3 label.sk-toggleable__label-arrow:before {content: \"▸\";float: left;margin-right: 0.25em;color: #696969;}#sk-container-id-3 label.sk-toggleable__label-arrow:hover:before {color: black;}#sk-container-id-3 div.sk-estimator:hover label.sk-toggleable__label-arrow:before {color: black;}#sk-container-id-3 div.sk-toggleable__content {max-height: 0;max-width: 0;overflow: hidden;text-align: left;background-color: #f0f8ff;}#sk-container-id-3 div.sk-toggleable__content pre {margin: 0.2em;color: black;border-radius: 0.25em;background-color: #f0f8ff;}#sk-container-id-3 input.sk-toggleable__control:checked~div.sk-toggleable__content {max-height: 200px;max-width: 100%;overflow: auto;}#sk-container-id-3 input.sk-toggleable__control:checked~label.sk-toggleable__label-arrow:before {content: \"▾\";}#sk-container-id-3 div.sk-estimator input.sk-toggleable__control:checked~label.sk-toggleable__label {background-color: #d4ebff;}#sk-container-id-3 div.sk-label input.sk-toggleable__control:checked~label.sk-toggleable__label {background-color: #d4ebff;}#sk-container-id-3 input.sk-hidden--visually {border: 0;clip: rect(1px 1px 1px 1px);clip: rect(1px, 1px, 1px, 1px);height: 1px;margin: -1px;overflow: hidden;padding: 0;position: absolute;width: 1px;}#sk-container-id-3 div.sk-estimator {font-family: monospace;background-color: #f0f8ff;border: 1px dotted black;border-radius: 0.25em;box-sizing: border-box;margin-bottom: 0.5em;}#sk-container-id-3 div.sk-estimator:hover {background-color: #d4ebff;}#sk-container-id-3 div.sk-parallel-item::after {content: \"\";width: 100%;border-bottom: 1px solid gray;flex-grow: 1;}#sk-container-id-3 div.sk-label:hover label.sk-toggleable__label {background-color: #d4ebff;}#sk-container-id-3 div.sk-serial::before {content: \"\";position: absolute;border-left: 1px solid gray;box-sizing: border-box;top: 0;bottom: 0;left: 50%;z-index: 0;}#sk-container-id-3 div.sk-serial {display: flex;flex-direction: column;align-items: center;background-color: white;padding-right: 0.2em;padding-left: 0.2em;position: relative;}#sk-container-id-3 div.sk-item {position: relative;z-index: 1;}#sk-container-id-3 div.sk-parallel {display: flex;align-items: stretch;justify-content: center;background-color: white;position: relative;}#sk-container-id-3 div.sk-item::before, #sk-container-id-3 div.sk-parallel-item::before {content: \"\";position: absolute;border-left: 1px solid gray;box-sizing: border-box;top: 0;bottom: 0;left: 50%;z-index: -1;}#sk-container-id-3 div.sk-parallel-item {display: flex;flex-direction: column;z-index: 1;position: relative;background-color: white;}#sk-container-id-3 div.sk-parallel-item:first-child::after {align-self: flex-end;width: 50%;}#sk-container-id-3 div.sk-parallel-item:last-child::after {align-self: flex-start;width: 50%;}#sk-container-id-3 div.sk-parallel-item:only-child::after {width: 0;}#sk-container-id-3 div.sk-dashed-wrapped {border: 1px dashed gray;margin: 0 0.4em 0.5em 0.4em;box-sizing: border-box;padding-bottom: 0.4em;background-color: white;}#sk-container-id-3 div.sk-label label {font-family: monospace;font-weight: bold;display: inline-block;line-height: 1.2em;}#sk-container-id-3 div.sk-label-container {text-align: center;}#sk-container-id-3 div.sk-container {/* jupyter's `normalize.less` sets `[hidden] { display: none; }` but bootstrap.min.css set `[hidden] { display: none !important; }` so we also need the `!important` here to be able to override the default hidden behavior on the sphinx rendered scikit-learn.org. See: https://github.com/scikit-learn/scikit-learn/issues/21755 */display: inline-block !important;position: relative;}#sk-container-id-3 div.sk-text-repr-fallback {display: none;}</style><div id=\"sk-container-id-3\" class=\"sk-top-container\"><div class=\"sk-text-repr-fallback\"><pre>KNeighborsClassifier()</pre><b>In a Jupyter environment, please rerun this cell to show the HTML representation or trust the notebook. <br />On GitHub, the HTML representation is unable to render, please try loading this page with nbviewer.org.</b></div><div class=\"sk-container\" hidden><div class=\"sk-item\"><div class=\"sk-estimator sk-toggleable\"><input class=\"sk-toggleable__control sk-hidden--visually\" id=\"sk-estimator-id-3\" type=\"checkbox\" checked><label for=\"sk-estimator-id-3\" class=\"sk-toggleable__label sk-toggleable__label-arrow\">KNeighborsClassifier</label><div class=\"sk-toggleable__content\"><pre>KNeighborsClassifier()</pre></div></div></div></div></div>"
     },
     "execution_count": 55,
     "metadata": {},
     "output_type": "execute_result"
    }
   ],
   "source": [
    "from sklearn.neighbors import KNeighborsClassifier\n",
    "\n",
    "model = KNeighborsClassifier(n_neighbors=5)\n",
    "model.fit(encoded_df,label)"
   ],
   "metadata": {
    "collapsed": false,
    "ExecuteTime": {
     "end_time": "2023-10-26T14:11:14.597084500Z",
     "start_time": "2023-10-26T14:11:14.420915500Z"
    }
   },
   "id": "8b8cb2a5c3290f87"
  },
  {
   "cell_type": "code",
   "execution_count": 56,
   "outputs": [
    {
     "data": {
      "text/plain": "        HighBP  HighChol  CholCheck  BMI  Smoker  Stroke  \\\n81110        1         1          1   37       0       0   \n199303       0         0          1   26       0       0   \n217732       1         1          1   30       1       1   \n123241       1         0          1   27       0       0   \n114291       0         0          1   22       0       0   \n\n        HeartDiseaseorAttack  PhysActivity  Fruits  Veggies  ...  \\\n81110                      0             1       0        1  ...   \n199303                     0             0       0        1  ...   \n217732                     0             0       1        1  ...   \n123241                     0             1       1        1  ...   \n114291                     0             1       0        1  ...   \n\n        AnyHealthcare  NoDocbcCost  GenHlth  MentHlth  PhysHlth  DiffWalk  \\\n81110               1            0        3         0         0         0   \n199303              1            0        2         0         0         0   \n217732              1            0        2         0        30         1   \n123241              0            1        3         0         0         0   \n114291              1            0        2        30         0         0   \n\n        Sex  Age  Education  Income  \n81110     1    5          5       7  \n199303    1    6          4       6  \n217732    0   10          6       5  \n123241    0    5          4       6  \n114291    0    9          6       8  \n\n[5 rows x 21 columns]",
      "text/html": "<div>\n<style scoped>\n    .dataframe tbody tr th:only-of-type {\n        vertical-align: middle;\n    }\n\n    .dataframe tbody tr th {\n        vertical-align: top;\n    }\n\n    .dataframe thead th {\n        text-align: right;\n    }\n</style>\n<table border=\"1\" class=\"dataframe\">\n  <thead>\n    <tr style=\"text-align: right;\">\n      <th></th>\n      <th>HighBP</th>\n      <th>HighChol</th>\n      <th>CholCheck</th>\n      <th>BMI</th>\n      <th>Smoker</th>\n      <th>Stroke</th>\n      <th>HeartDiseaseorAttack</th>\n      <th>PhysActivity</th>\n      <th>Fruits</th>\n      <th>Veggies</th>\n      <th>...</th>\n      <th>AnyHealthcare</th>\n      <th>NoDocbcCost</th>\n      <th>GenHlth</th>\n      <th>MentHlth</th>\n      <th>PhysHlth</th>\n      <th>DiffWalk</th>\n      <th>Sex</th>\n      <th>Age</th>\n      <th>Education</th>\n      <th>Income</th>\n    </tr>\n  </thead>\n  <tbody>\n    <tr>\n      <th>81110</th>\n      <td>1</td>\n      <td>1</td>\n      <td>1</td>\n      <td>37</td>\n      <td>0</td>\n      <td>0</td>\n      <td>0</td>\n      <td>1</td>\n      <td>0</td>\n      <td>1</td>\n      <td>...</td>\n      <td>1</td>\n      <td>0</td>\n      <td>3</td>\n      <td>0</td>\n      <td>0</td>\n      <td>0</td>\n      <td>1</td>\n      <td>5</td>\n      <td>5</td>\n      <td>7</td>\n    </tr>\n    <tr>\n      <th>199303</th>\n      <td>0</td>\n      <td>0</td>\n      <td>1</td>\n      <td>26</td>\n      <td>0</td>\n      <td>0</td>\n      <td>0</td>\n      <td>0</td>\n      <td>0</td>\n      <td>1</td>\n      <td>...</td>\n      <td>1</td>\n      <td>0</td>\n      <td>2</td>\n      <td>0</td>\n      <td>0</td>\n      <td>0</td>\n      <td>1</td>\n      <td>6</td>\n      <td>4</td>\n      <td>6</td>\n    </tr>\n    <tr>\n      <th>217732</th>\n      <td>1</td>\n      <td>1</td>\n      <td>1</td>\n      <td>30</td>\n      <td>1</td>\n      <td>1</td>\n      <td>0</td>\n      <td>0</td>\n      <td>1</td>\n      <td>1</td>\n      <td>...</td>\n      <td>1</td>\n      <td>0</td>\n      <td>2</td>\n      <td>0</td>\n      <td>30</td>\n      <td>1</td>\n      <td>0</td>\n      <td>10</td>\n      <td>6</td>\n      <td>5</td>\n    </tr>\n    <tr>\n      <th>123241</th>\n      <td>1</td>\n      <td>0</td>\n      <td>1</td>\n      <td>27</td>\n      <td>0</td>\n      <td>0</td>\n      <td>0</td>\n      <td>1</td>\n      <td>1</td>\n      <td>1</td>\n      <td>...</td>\n      <td>0</td>\n      <td>1</td>\n      <td>3</td>\n      <td>0</td>\n      <td>0</td>\n      <td>0</td>\n      <td>0</td>\n      <td>5</td>\n      <td>4</td>\n      <td>6</td>\n    </tr>\n    <tr>\n      <th>114291</th>\n      <td>0</td>\n      <td>0</td>\n      <td>1</td>\n      <td>22</td>\n      <td>0</td>\n      <td>0</td>\n      <td>0</td>\n      <td>1</td>\n      <td>0</td>\n      <td>1</td>\n      <td>...</td>\n      <td>1</td>\n      <td>0</td>\n      <td>2</td>\n      <td>30</td>\n      <td>0</td>\n      <td>0</td>\n      <td>0</td>\n      <td>9</td>\n      <td>6</td>\n      <td>8</td>\n    </tr>\n  </tbody>\n</table>\n<p>5 rows × 21 columns</p>\n</div>"
     },
     "execution_count": 56,
     "metadata": {},
     "output_type": "execute_result"
    }
   ],
   "source": [
    "test_feature = features_test.iloc[:,:-1]\n",
    "test_label = features_test.iloc[:,-1]\n",
    "test_feature.head()"
   ],
   "metadata": {
    "collapsed": false,
    "ExecuteTime": {
     "end_time": "2023-10-26T14:11:14.671712700Z",
     "start_time": "2023-10-26T14:11:14.497513100Z"
    }
   },
   "id": "abe6193472ce0892"
  },
  {
   "cell_type": "code",
   "execution_count": 57,
   "outputs": [
    {
     "data": {
      "text/plain": "81110     0\n199303    0\n217732    0\n123241    0\n114291    0\nName: Diabetes, dtype: int64"
     },
     "execution_count": 57,
     "metadata": {},
     "output_type": "execute_result"
    }
   ],
   "source": [
    "test_label.head()"
   ],
   "metadata": {
    "collapsed": false,
    "ExecuteTime": {
     "end_time": "2023-10-26T14:11:14.718106600Z",
     "start_time": "2023-10-26T14:11:14.534486700Z"
    }
   },
   "id": "1a53810eb962c439"
  },
  {
   "cell_type": "code",
   "execution_count": 59,
   "outputs": [],
   "source": [
    "pred = model.predict(test_feature.iloc[0:1000])"
   ],
   "metadata": {
    "collapsed": false,
    "ExecuteTime": {
     "end_time": "2023-10-26T14:11:52.019552300Z",
     "start_time": "2023-10-26T14:11:39.069343500Z"
    }
   },
   "id": "e4099b2ba8e5483e"
  },
  {
   "cell_type": "code",
   "execution_count": 60,
   "outputs": [
    {
     "data": {
      "text/plain": "0.906"
     },
     "execution_count": 60,
     "metadata": {},
     "output_type": "execute_result"
    }
   ],
   "source": [
    "from sklearn.metrics import accuracy_score\n",
    "\n",
    "accuracy = accuracy_score(y_true=test_label.iloc[0:1000],y_pred=pred)\n",
    "accuracy"
   ],
   "metadata": {
    "collapsed": false,
    "ExecuteTime": {
     "end_time": "2023-10-26T14:11:55.028372600Z",
     "start_time": "2023-10-26T14:11:55.000803400Z"
    }
   },
   "id": "f38b7e10e7efe483"
  }
 ],
 "metadata": {
  "kernelspec": {
   "display_name": "Python 3",
   "language": "python",
   "name": "python3"
  },
  "language_info": {
   "codemirror_mode": {
    "name": "ipython",
    "version": 2
   },
   "file_extension": ".py",
   "mimetype": "text/x-python",
   "name": "python",
   "nbconvert_exporter": "python",
   "pygments_lexer": "ipython2",
   "version": "2.7.6"
  }
 },
 "nbformat": 4,
 "nbformat_minor": 5
}
