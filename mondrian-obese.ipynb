{
 "cells": [
  {
   "cell_type": "code",
   "execution_count": 345,
   "id": "initial_id",
   "metadata": {
    "collapsed": true,
    "ExecuteTime": {
     "end_time": "2023-10-26T13:28:22.437554400Z",
     "start_time": "2023-10-26T13:28:22.391976200Z"
    }
   },
   "outputs": [],
   "source": [
    "import pandas as pd\n",
    "import numpy as np"
   ]
  },
  {
   "cell_type": "code",
   "execution_count": 346,
   "outputs": [],
   "source": [
    "def mondrian_k_anonymity(df, k, sensitive_attribute):\n",
    "    # Sort the dataframe by the sensitive attribute\n",
    "    df = df.sort_values(by=sensitive_attribute)\n",
    "\n",
    "    # Calculate the number of records in each partition\n",
    "    partition_size = len(df) // k\n",
    "\n",
    "    # Initialize a list to store the anonymized partitions\n",
    "    partitions = []\n",
    "\n",
    "    # Split the dataset into partitions\n",
    "    for i in range(0, len(df), partition_size):\n",
    "        partition = df.iloc[i:i+partition_size]\n",
    "        partitions.append(partition)\n",
    "\n",
    "    # Generalize the quasi-identifiers within each partition\n",
    "    for partition in partitions:\n",
    "        for column in df.columns:\n",
    "            if column != sensitive_attribute:\n",
    "                # Generalization strategy\n",
    "                if df[column].dtype == 'int64':\n",
    "                    partition[column] = round(partition[column].mean())\n",
    "                else:\n",
    "                    # For categorical attributes, select the most common value\n",
    "                    mode_value = partition[column].mode().iloc[0]\n",
    "                    partition[column] = mode_value\n",
    "\n",
    "    return partitions\n"
   ],
   "metadata": {
    "collapsed": false,
    "ExecuteTime": {
     "end_time": "2023-10-26T13:28:22.564488900Z",
     "start_time": "2023-10-26T13:28:22.406276700Z"
    }
   },
   "id": "62af0b0dacd1d134"
  },
  {
   "cell_type": "code",
   "execution_count": 347,
   "outputs": [
    {
     "data": {
      "text/plain": "   Gender   Age  Height  Weight family_history_with_overweight FAVC  FCVC  \\\n0  Female  21.0    1.62    64.0                            yes   no   2.0   \n1  Female  21.0    1.52    56.0                            yes   no   3.0   \n2    Male  23.0    1.80    77.0                            yes   no   2.0   \n3    Male  27.0    1.80    87.0                             no   no   3.0   \n4    Male  22.0    1.78    89.8                             no   no   2.0   \n\n   NCP       CAEC SMOKE  CH2O  SCC  FAF  TUE        CALC  \\\n0  3.0  Sometimes    no   2.0   no  0.0  1.0          no   \n1  3.0  Sometimes   yes   3.0  yes  3.0  0.0   Sometimes   \n2  3.0  Sometimes    no   2.0   no  2.0  1.0  Frequently   \n3  3.0  Sometimes    no   2.0   no  2.0  0.0  Frequently   \n4  1.0  Sometimes    no   2.0   no  0.0  0.0   Sometimes   \n\n                  MTRANS           NObeyesdad  \n0  Public_Transportation        Normal_Weight  \n1  Public_Transportation        Normal_Weight  \n2  Public_Transportation        Normal_Weight  \n3                Walking   Overweight_Level_I  \n4  Public_Transportation  Overweight_Level_II  ",
      "text/html": "<div>\n<style scoped>\n    .dataframe tbody tr th:only-of-type {\n        vertical-align: middle;\n    }\n\n    .dataframe tbody tr th {\n        vertical-align: top;\n    }\n\n    .dataframe thead th {\n        text-align: right;\n    }\n</style>\n<table border=\"1\" class=\"dataframe\">\n  <thead>\n    <tr style=\"text-align: right;\">\n      <th></th>\n      <th>Gender</th>\n      <th>Age</th>\n      <th>Height</th>\n      <th>Weight</th>\n      <th>family_history_with_overweight</th>\n      <th>FAVC</th>\n      <th>FCVC</th>\n      <th>NCP</th>\n      <th>CAEC</th>\n      <th>SMOKE</th>\n      <th>CH2O</th>\n      <th>SCC</th>\n      <th>FAF</th>\n      <th>TUE</th>\n      <th>CALC</th>\n      <th>MTRANS</th>\n      <th>NObeyesdad</th>\n    </tr>\n  </thead>\n  <tbody>\n    <tr>\n      <th>0</th>\n      <td>Female</td>\n      <td>21.0</td>\n      <td>1.62</td>\n      <td>64.0</td>\n      <td>yes</td>\n      <td>no</td>\n      <td>2.0</td>\n      <td>3.0</td>\n      <td>Sometimes</td>\n      <td>no</td>\n      <td>2.0</td>\n      <td>no</td>\n      <td>0.0</td>\n      <td>1.0</td>\n      <td>no</td>\n      <td>Public_Transportation</td>\n      <td>Normal_Weight</td>\n    </tr>\n    <tr>\n      <th>1</th>\n      <td>Female</td>\n      <td>21.0</td>\n      <td>1.52</td>\n      <td>56.0</td>\n      <td>yes</td>\n      <td>no</td>\n      <td>3.0</td>\n      <td>3.0</td>\n      <td>Sometimes</td>\n      <td>yes</td>\n      <td>3.0</td>\n      <td>yes</td>\n      <td>3.0</td>\n      <td>0.0</td>\n      <td>Sometimes</td>\n      <td>Public_Transportation</td>\n      <td>Normal_Weight</td>\n    </tr>\n    <tr>\n      <th>2</th>\n      <td>Male</td>\n      <td>23.0</td>\n      <td>1.80</td>\n      <td>77.0</td>\n      <td>yes</td>\n      <td>no</td>\n      <td>2.0</td>\n      <td>3.0</td>\n      <td>Sometimes</td>\n      <td>no</td>\n      <td>2.0</td>\n      <td>no</td>\n      <td>2.0</td>\n      <td>1.0</td>\n      <td>Frequently</td>\n      <td>Public_Transportation</td>\n      <td>Normal_Weight</td>\n    </tr>\n    <tr>\n      <th>3</th>\n      <td>Male</td>\n      <td>27.0</td>\n      <td>1.80</td>\n      <td>87.0</td>\n      <td>no</td>\n      <td>no</td>\n      <td>3.0</td>\n      <td>3.0</td>\n      <td>Sometimes</td>\n      <td>no</td>\n      <td>2.0</td>\n      <td>no</td>\n      <td>2.0</td>\n      <td>0.0</td>\n      <td>Frequently</td>\n      <td>Walking</td>\n      <td>Overweight_Level_I</td>\n    </tr>\n    <tr>\n      <th>4</th>\n      <td>Male</td>\n      <td>22.0</td>\n      <td>1.78</td>\n      <td>89.8</td>\n      <td>no</td>\n      <td>no</td>\n      <td>2.0</td>\n      <td>1.0</td>\n      <td>Sometimes</td>\n      <td>no</td>\n      <td>2.0</td>\n      <td>no</td>\n      <td>0.0</td>\n      <td>0.0</td>\n      <td>Sometimes</td>\n      <td>Public_Transportation</td>\n      <td>Overweight_Level_II</td>\n    </tr>\n  </tbody>\n</table>\n</div>"
     },
     "execution_count": 347,
     "metadata": {},
     "output_type": "execute_result"
    }
   ],
   "source": [
    "df = pd.read_csv('Datasets/ObesityDataSet_raw_and_data_sinthetic.csv')\n",
    "df.head()"
   ],
   "metadata": {
    "collapsed": false,
    "ExecuteTime": {
     "end_time": "2023-10-26T13:28:22.588494700Z",
     "start_time": "2023-10-26T13:28:22.421893Z"
    }
   },
   "id": "13bf18dbe60f7ffa"
  },
  {
   "cell_type": "code",
   "execution_count": 348,
   "outputs": [],
   "source": [
    "from sklearn.preprocessing import LabelEncoder\n",
    "\n",
    "def encode_categorical_data(dataframe):\n",
    "    encoded_df = dataframe.copy()\n",
    "    label_encoders = {}\n",
    "\n",
    "    for column in encoded_df.columns:\n",
    "        if encoded_df[column].dtype == 'object':\n",
    "            label_encoder = LabelEncoder()\n",
    "            encoded_df[column] = label_encoder.fit_transform(encoded_df[column])\n",
    "            label_encoders[column] = label_encoder\n",
    "\n",
    "    return encoded_df, label_encoders\n",
    "\n",
    "encoded_df, encoders = encode_categorical_data(df)"
   ],
   "metadata": {
    "collapsed": false,
    "ExecuteTime": {
     "end_time": "2023-10-26T13:28:22.588494700Z",
     "start_time": "2023-10-26T13:28:22.475476400Z"
    }
   },
   "id": "ca25702baa07a46a"
  },
  {
   "cell_type": "code",
   "execution_count": 349,
   "outputs": [
    {
     "data": {
      "text/plain": "      Gender        Age    Height      Weight  family_history_with_overweight  \\\n1685       1  25.015173  1.788239  115.382519                               1   \n1790       1  23.147644  1.815514  120.337664                               1   \n1102       1  17.894784  1.731389   84.064875                               1   \n0          0  21.000000  1.620000   64.000000                               1   \n1351       0  39.213399  1.586301   80.000000                               1   \n\n      FAVC      FCVC       NCP  CAEC  SMOKE      CH2O  SCC       FAF  \\\n1685     1  1.735664  3.000000     2      0  2.041536    0  1.392406   \n1790     1  2.996717  2.791366     2      0  2.626309    0  1.194898   \n1102     0  2.019674  2.843319     2      0  2.832004    0  1.000000   \n0        0  2.000000  3.000000     2      0  2.000000    0  0.000000   \n1351     1  2.020502  1.237454     2      0  1.931420    0  1.967973   \n\n           TUE  CALC  MTRANS  NObeyesdad  \n1685  0.391740     2       3           3  \n1790  0.034897     2       3           3  \n1102  0.608607     2       3           6  \n0     1.000000     3       3           1  \n1351  0.000000     2       0           2  ",
      "text/html": "<div>\n<style scoped>\n    .dataframe tbody tr th:only-of-type {\n        vertical-align: middle;\n    }\n\n    .dataframe tbody tr th {\n        vertical-align: top;\n    }\n\n    .dataframe thead th {\n        text-align: right;\n    }\n</style>\n<table border=\"1\" class=\"dataframe\">\n  <thead>\n    <tr style=\"text-align: right;\">\n      <th></th>\n      <th>Gender</th>\n      <th>Age</th>\n      <th>Height</th>\n      <th>Weight</th>\n      <th>family_history_with_overweight</th>\n      <th>FAVC</th>\n      <th>FCVC</th>\n      <th>NCP</th>\n      <th>CAEC</th>\n      <th>SMOKE</th>\n      <th>CH2O</th>\n      <th>SCC</th>\n      <th>FAF</th>\n      <th>TUE</th>\n      <th>CALC</th>\n      <th>MTRANS</th>\n      <th>NObeyesdad</th>\n    </tr>\n  </thead>\n  <tbody>\n    <tr>\n      <th>1685</th>\n      <td>1</td>\n      <td>25.015173</td>\n      <td>1.788239</td>\n      <td>115.382519</td>\n      <td>1</td>\n      <td>1</td>\n      <td>1.735664</td>\n      <td>3.000000</td>\n      <td>2</td>\n      <td>0</td>\n      <td>2.041536</td>\n      <td>0</td>\n      <td>1.392406</td>\n      <td>0.391740</td>\n      <td>2</td>\n      <td>3</td>\n      <td>3</td>\n    </tr>\n    <tr>\n      <th>1790</th>\n      <td>1</td>\n      <td>23.147644</td>\n      <td>1.815514</td>\n      <td>120.337664</td>\n      <td>1</td>\n      <td>1</td>\n      <td>2.996717</td>\n      <td>2.791366</td>\n      <td>2</td>\n      <td>0</td>\n      <td>2.626309</td>\n      <td>0</td>\n      <td>1.194898</td>\n      <td>0.034897</td>\n      <td>2</td>\n      <td>3</td>\n      <td>3</td>\n    </tr>\n    <tr>\n      <th>1102</th>\n      <td>1</td>\n      <td>17.894784</td>\n      <td>1.731389</td>\n      <td>84.064875</td>\n      <td>1</td>\n      <td>0</td>\n      <td>2.019674</td>\n      <td>2.843319</td>\n      <td>2</td>\n      <td>0</td>\n      <td>2.832004</td>\n      <td>0</td>\n      <td>1.000000</td>\n      <td>0.608607</td>\n      <td>2</td>\n      <td>3</td>\n      <td>6</td>\n    </tr>\n    <tr>\n      <th>0</th>\n      <td>0</td>\n      <td>21.000000</td>\n      <td>1.620000</td>\n      <td>64.000000</td>\n      <td>1</td>\n      <td>0</td>\n      <td>2.000000</td>\n      <td>3.000000</td>\n      <td>2</td>\n      <td>0</td>\n      <td>2.000000</td>\n      <td>0</td>\n      <td>0.000000</td>\n      <td>1.000000</td>\n      <td>3</td>\n      <td>3</td>\n      <td>1</td>\n    </tr>\n    <tr>\n      <th>1351</th>\n      <td>0</td>\n      <td>39.213399</td>\n      <td>1.586301</td>\n      <td>80.000000</td>\n      <td>1</td>\n      <td>1</td>\n      <td>2.020502</td>\n      <td>1.237454</td>\n      <td>2</td>\n      <td>0</td>\n      <td>1.931420</td>\n      <td>0</td>\n      <td>1.967973</td>\n      <td>0.000000</td>\n      <td>2</td>\n      <td>0</td>\n      <td>2</td>\n    </tr>\n  </tbody>\n</table>\n</div>"
     },
     "execution_count": 349,
     "metadata": {},
     "output_type": "execute_result"
    }
   ],
   "source": [
    "from sklearn.model_selection import train_test_split\n",
    "\n",
    "features_train,features_test,labels_train,labels_test = train_test_split(\n",
    "    encoded_df,np.ones(len(encoded_df)),random_state=17,test_size=0.2\n",
    ")\n",
    "features_train.head()"
   ],
   "metadata": {
    "collapsed": false,
    "ExecuteTime": {
     "end_time": "2023-10-26T13:28:22.588494700Z",
     "start_time": "2023-10-26T13:28:22.498278500Z"
    }
   },
   "id": "249551c03c6789c7"
  },
  {
   "cell_type": "code",
   "execution_count": 350,
   "outputs": [
    {
     "data": {
      "text/plain": "      Gender        Age    Height     Weight  family_history_with_overweight  \\\n885        0  18.871917  1.755254  80.000000                               1   \n712        0  19.054938  1.585886  42.541794                               0   \n62         1  22.000000  1.670000  62.000000                               0   \n1208       0  45.821267  1.687326  80.413997                               1   \n690        1  17.521754  1.757958  52.094320                               0   \n\n      FAVC      FCVC       NCP  CAEC  SMOKE      CH2O  SCC       FAF      TUE  \\\n885      1  2.000000  1.095223     2      0  2.474132    0  2.876696  0.79390   \n712      0  2.910345  3.000000     1      0  1.000000    1  1.461005  0.00000   \n62       1  2.000000  1.000000     3      0  2.000000    0  0.000000  0.00000   \n1208     1  2.076689  3.000000     2      0  1.026729    0  0.647798  0.00000   \n690      1  2.214980  2.641550     2      0  2.121251    0  0.998391  0.85882   \n\n      CALC  MTRANS  NObeyesdad  \n885      3       3           5  \n712      2       3           0  \n62       2       3           1  \n1208     3       0           6  \n690      2       3           0  ",
      "text/html": "<div>\n<style scoped>\n    .dataframe tbody tr th:only-of-type {\n        vertical-align: middle;\n    }\n\n    .dataframe tbody tr th {\n        vertical-align: top;\n    }\n\n    .dataframe thead th {\n        text-align: right;\n    }\n</style>\n<table border=\"1\" class=\"dataframe\">\n  <thead>\n    <tr style=\"text-align: right;\">\n      <th></th>\n      <th>Gender</th>\n      <th>Age</th>\n      <th>Height</th>\n      <th>Weight</th>\n      <th>family_history_with_overweight</th>\n      <th>FAVC</th>\n      <th>FCVC</th>\n      <th>NCP</th>\n      <th>CAEC</th>\n      <th>SMOKE</th>\n      <th>CH2O</th>\n      <th>SCC</th>\n      <th>FAF</th>\n      <th>TUE</th>\n      <th>CALC</th>\n      <th>MTRANS</th>\n      <th>NObeyesdad</th>\n    </tr>\n  </thead>\n  <tbody>\n    <tr>\n      <th>885</th>\n      <td>0</td>\n      <td>18.871917</td>\n      <td>1.755254</td>\n      <td>80.000000</td>\n      <td>1</td>\n      <td>1</td>\n      <td>2.000000</td>\n      <td>1.095223</td>\n      <td>2</td>\n      <td>0</td>\n      <td>2.474132</td>\n      <td>0</td>\n      <td>2.876696</td>\n      <td>0.79390</td>\n      <td>3</td>\n      <td>3</td>\n      <td>5</td>\n    </tr>\n    <tr>\n      <th>712</th>\n      <td>0</td>\n      <td>19.054938</td>\n      <td>1.585886</td>\n      <td>42.541794</td>\n      <td>0</td>\n      <td>0</td>\n      <td>2.910345</td>\n      <td>3.000000</td>\n      <td>1</td>\n      <td>0</td>\n      <td>1.000000</td>\n      <td>1</td>\n      <td>1.461005</td>\n      <td>0.00000</td>\n      <td>2</td>\n      <td>3</td>\n      <td>0</td>\n    </tr>\n    <tr>\n      <th>62</th>\n      <td>1</td>\n      <td>22.000000</td>\n      <td>1.670000</td>\n      <td>62.000000</td>\n      <td>0</td>\n      <td>1</td>\n      <td>2.000000</td>\n      <td>1.000000</td>\n      <td>3</td>\n      <td>0</td>\n      <td>2.000000</td>\n      <td>0</td>\n      <td>0.000000</td>\n      <td>0.00000</td>\n      <td>2</td>\n      <td>3</td>\n      <td>1</td>\n    </tr>\n    <tr>\n      <th>1208</th>\n      <td>0</td>\n      <td>45.821267</td>\n      <td>1.687326</td>\n      <td>80.413997</td>\n      <td>1</td>\n      <td>1</td>\n      <td>2.076689</td>\n      <td>3.000000</td>\n      <td>2</td>\n      <td>0</td>\n      <td>1.026729</td>\n      <td>0</td>\n      <td>0.647798</td>\n      <td>0.00000</td>\n      <td>3</td>\n      <td>0</td>\n      <td>6</td>\n    </tr>\n    <tr>\n      <th>690</th>\n      <td>1</td>\n      <td>17.521754</td>\n      <td>1.757958</td>\n      <td>52.094320</td>\n      <td>0</td>\n      <td>1</td>\n      <td>2.214980</td>\n      <td>2.641550</td>\n      <td>2</td>\n      <td>0</td>\n      <td>2.121251</td>\n      <td>0</td>\n      <td>0.998391</td>\n      <td>0.85882</td>\n      <td>2</td>\n      <td>3</td>\n      <td>0</td>\n    </tr>\n  </tbody>\n</table>\n</div>"
     },
     "execution_count": 350,
     "metadata": {},
     "output_type": "execute_result"
    }
   ],
   "source": [
    "features_test.head()"
   ],
   "metadata": {
    "collapsed": false,
    "ExecuteTime": {
     "end_time": "2023-10-26T13:28:22.588494700Z",
     "start_time": "2023-10-26T13:28:22.550986100Z"
    }
   },
   "id": "52611b2d28028937"
  },
  {
   "cell_type": "code",
   "execution_count": 351,
   "outputs": [
    {
     "name": "stdout",
     "output_type": "stream",
     "text": [
      "Partition 1 (Sensitive Value: 0):\n",
      "     Gender   Age  Height  Weight  family_history_with_overweight  FAVC  FCVC  \\\n",
      "529       0  18.0     1.7    50.0                               0     1   3.0   \n",
      "582       0  18.0     1.7    50.0                               0     1   3.0   \n",
      "581       0  18.0     1.7    50.0                               0     1   3.0   \n",
      "580       0  18.0     1.7    50.0                               0     1   3.0   \n",
      "579       0  18.0     1.7    50.0                               0     1   3.0   \n",
      "..      ...   ...     ...     ...                             ...   ...   ...   \n",
      "208       0  18.0     1.7    50.0                               0     1   3.0   \n",
      "207       0  18.0     1.7    50.0                               0     1   3.0   \n",
      "204       0  18.0     1.7    50.0                               0     1   3.0   \n",
      "199       0  18.0     1.7    50.0                               0     1   3.0   \n",
      "196       0  18.0     1.7    50.0                               0     1   3.0   \n",
      "\n",
      "     NCP  CAEC  SMOKE  CH2O  SCC  FAF  TUE  CALC  MTRANS  NObeyesdad  \n",
      "529  3.0     2      0   2.0    0  2.0  1.0     2       3           0  \n",
      "582  3.0     2      0   2.0    0  2.0  1.0     2       3           0  \n",
      "581  3.0     2      0   2.0    0  2.0  1.0     2       3           0  \n",
      "580  3.0     2      0   2.0    0  2.0  1.0     2       3           0  \n",
      "579  3.0     2      0   2.0    0  2.0  1.0     2       3           0  \n",
      "..   ...   ...    ...   ...  ...  ...  ...   ...     ...         ...  \n",
      "208  3.0     2      0   2.0    0  2.0  1.0     2       3           1  \n",
      "207  3.0     2      0   2.0    0  2.0  1.0     2       3           1  \n",
      "204  3.0     2      0   2.0    0  2.0  1.0     2       3           1  \n",
      "199  3.0     2      0   2.0    0  2.0  1.0     2       3           1  \n",
      "196  3.0     2      0   2.0    0  2.0  1.0     2       3           1  \n",
      "\n",
      "[422 rows x 17 columns]\n",
      "\n",
      "Partition 2 (Sensitive Value: 1):\n",
      "      Gender   Age  Height  Weight  family_history_with_overweight  FAVC  \\\n",
      "193        1  18.0    1.65    80.0                               1     1   \n",
      "223        1  18.0    1.65    80.0                               1     1   \n",
      "248        1  18.0    1.65    80.0                               1     1   \n",
      "115        1  18.0    1.65    80.0                               1     1   \n",
      "113        1  18.0    1.65    80.0                               1     1   \n",
      "...      ...   ...     ...     ...                             ...   ...   \n",
      "134        1  18.0    1.65    80.0                               1     1   \n",
      "1480       1  18.0    1.65    80.0                               1     1   \n",
      "1487       1  18.0    1.65    80.0                               1     1   \n",
      "82         1  18.0    1.65    80.0                               1     1   \n",
      "1494       1  18.0    1.65    80.0                               1     1   \n",
      "\n",
      "      FCVC  NCP  CAEC  SMOKE  CH2O  SCC  FAF  TUE  CALC  MTRANS  NObeyesdad  \n",
      "193    2.0  3.0     2      0   2.0    0  0.0  0.0     2       3           1  \n",
      "223    2.0  3.0     2      0   2.0    0  0.0  0.0     2       3           1  \n",
      "248    2.0  3.0     2      0   2.0    0  0.0  0.0     2       3           1  \n",
      "115    2.0  3.0     2      0   2.0    0  0.0  0.0     2       3           1  \n",
      "113    2.0  3.0     2      0   2.0    0  0.0  0.0     2       3           1  \n",
      "...    ...  ...   ...    ...   ...  ...  ...  ...   ...     ...         ...  \n",
      "134    2.0  3.0     2      0   2.0    0  0.0  0.0     2       3           2  \n",
      "1480   2.0  3.0     2      0   2.0    0  0.0  0.0     2       3           2  \n",
      "1487   2.0  3.0     2      0   2.0    0  0.0  0.0     2       3           2  \n",
      "82     2.0  3.0     2      0   2.0    0  0.0  0.0     2       3           2  \n",
      "1494   2.0  3.0     2      0   2.0    0  0.0  0.0     2       3           2  \n",
      "\n",
      "[422 rows x 17 columns]\n",
      "\n",
      "Partition 3 (Sensitive Value: 2):\n",
      "      Gender   Age  Height  Weight  family_history_with_overweight  FAVC  \\\n",
      "78         1  26.0    1.75   120.0                               1     1   \n",
      "1510       1  26.0    1.75   120.0                               1     1   \n",
      "1509       1  26.0    1.75   120.0                               1     1   \n",
      "1508       1  26.0    1.75   120.0                               1     1   \n",
      "21         1  26.0    1.75   120.0                               1     1   \n",
      "...      ...   ...     ...     ...                             ...   ...   \n",
      "1996       1  26.0    1.75   120.0                               1     1   \n",
      "1995       1  26.0    1.75   120.0                               1     1   \n",
      "1994       1  26.0    1.75   120.0                               1     1   \n",
      "1993       1  26.0    1.75   120.0                               1     1   \n",
      "1992       1  26.0    1.75   120.0                               1     1   \n",
      "\n",
      "      FCVC  NCP  CAEC  SMOKE  CH2O  SCC  FAF  TUE  CALC  MTRANS  NObeyesdad  \n",
      "78     3.0  3.0     2      0   1.0    0  0.0  0.0     2       3           2  \n",
      "1510   3.0  3.0     2      0   1.0    0  0.0  0.0     2       3           2  \n",
      "1509   3.0  3.0     2      0   1.0    0  0.0  0.0     2       3           2  \n",
      "1508   3.0  3.0     2      0   1.0    0  0.0  0.0     2       3           2  \n",
      "21     3.0  3.0     2      0   1.0    0  0.0  0.0     2       3           2  \n",
      "...    ...  ...   ...    ...   ...  ...  ...  ...   ...     ...         ...  \n",
      "1996   3.0  3.0     2      0   1.0    0  0.0  0.0     2       3           4  \n",
      "1995   3.0  3.0     2      0   1.0    0  0.0  0.0     2       3           4  \n",
      "1994   3.0  3.0     2      0   1.0    0  0.0  0.0     2       3           4  \n",
      "1993   3.0  3.0     2      0   1.0    0  0.0  0.0     2       3           4  \n",
      "1992   3.0  3.0     2      0   1.0    0  0.0  0.0     2       3           4  \n",
      "\n",
      "[422 rows x 17 columns]\n",
      "\n",
      "Partition 4 (Sensitive Value: 4):\n",
      "      Gender   Age  Height  Weight  family_history_with_overweight  FAVC  \\\n",
      "1991       0  26.0    1.62    70.0                               1     1   \n",
      "1990       0  26.0    1.62    70.0                               1     1   \n",
      "1989       0  26.0    1.62    70.0                               1     1   \n",
      "1988       0  26.0    1.62    70.0                               1     1   \n",
      "1987       0  26.0    1.62    70.0                               1     1   \n",
      "...      ...   ...     ...     ...                             ...   ...   \n",
      "896        0  26.0    1.62    70.0                               1     1   \n",
      "897        0  26.0    1.62    70.0                               1     1   \n",
      "898        0  26.0    1.62    70.0                               1     1   \n",
      "899        0  26.0    1.62    70.0                               1     1   \n",
      "900        0  26.0    1.62    70.0                               1     1   \n",
      "\n",
      "      FCVC  NCP  CAEC  SMOKE  CH2O  SCC  FAF  TUE  CALC  MTRANS  NObeyesdad  \n",
      "1991   3.0  3.0     2      0   2.0    0  0.0  0.0     2       3           4  \n",
      "1990   3.0  3.0     2      0   2.0    0  0.0  0.0     2       3           4  \n",
      "1989   3.0  3.0     2      0   2.0    0  0.0  0.0     2       3           4  \n",
      "1988   3.0  3.0     2      0   2.0    0  0.0  0.0     2       3           4  \n",
      "1987   3.0  3.0     2      0   2.0    0  0.0  0.0     2       3           4  \n",
      "...    ...  ...   ...    ...   ...  ...  ...  ...   ...     ...         ...  \n",
      "896    3.0  3.0     2      0   2.0    0  0.0  0.0     2       3           5  \n",
      "897    3.0  3.0     2      0   2.0    0  0.0  0.0     2       3           5  \n",
      "898    3.0  3.0     2      0   2.0    0  0.0  0.0     2       3           5  \n",
      "899    3.0  3.0     2      0   2.0    0  0.0  0.0     2       3           5  \n",
      "900    3.0  3.0     2      0   2.0    0  0.0  0.0     2       3           5  \n",
      "\n",
      "[422 rows x 17 columns]\n",
      "\n",
      "Partition 5 (Sensitive Value: 5):\n",
      "      Gender   Age  Height  Weight  family_history_with_overweight  FAVC  \\\n",
      "901        1  21.0     1.7    80.0                               1     1   \n",
      "902        1  21.0     1.7    80.0                               1     1   \n",
      "903        1  21.0     1.7    80.0                               1     1   \n",
      "939        1  21.0     1.7    80.0                               1     1   \n",
      "904        1  21.0     1.7    80.0                               1     1   \n",
      "...      ...   ...     ...     ...                             ...   ...   \n",
      "1058       1  21.0     1.7    80.0                               1     1   \n",
      "1059       1  21.0     1.7    80.0                               1     1   \n",
      "1060       1  21.0     1.7    80.0                               1     1   \n",
      "1061       1  21.0     1.7    80.0                               1     1   \n",
      "1063       1  21.0     1.7    80.0                               1     1   \n",
      "\n",
      "      FCVC  NCP  CAEC  SMOKE  CH2O  SCC  FAF  TUE  CALC  MTRANS  NObeyesdad  \n",
      "901    2.0  3.0     2      0   2.0    0  0.0  0.0     2       3           5  \n",
      "902    2.0  3.0     2      0   2.0    0  0.0  0.0     2       3           5  \n",
      "903    2.0  3.0     2      0   2.0    0  0.0  0.0     2       3           5  \n",
      "939    2.0  3.0     2      0   2.0    0  0.0  0.0     2       3           5  \n",
      "904    2.0  3.0     2      0   2.0    0  0.0  0.0     2       3           5  \n",
      "...    ...  ...   ...    ...   ...  ...  ...  ...   ...     ...         ...  \n",
      "1058   2.0  3.0     2      0   2.0    0  0.0  0.0     2       3           6  \n",
      "1059   2.0  3.0     2      0   2.0    0  0.0  0.0     2       3           6  \n",
      "1060   2.0  3.0     2      0   2.0    0  0.0  0.0     2       3           6  \n",
      "1061   2.0  3.0     2      0   2.0    0  0.0  0.0     2       3           6  \n",
      "1063   2.0  3.0     2      0   2.0    0  0.0  0.0     2       3           6  \n",
      "\n",
      "[422 rows x 17 columns]\n",
      "\n",
      "Partition 6 (Sensitive Value: 6):\n",
      "      Gender   Age  Height    Weight  family_history_with_overweight  FAVC  \\\n",
      "1055       1  33.0    1.85  97.92035                               1     1   \n",
      "\n",
      "      FCVC  NCP  CAEC  SMOKE      CH2O  SCC  FAF       TUE  CALC  MTRANS  \\\n",
      "1055   2.0  3.0     2      0  1.117464    0  1.0  0.663649     2       3   \n",
      "\n",
      "      NObeyesdad  \n",
      "1055           6  \n"
     ]
    },
    {
     "name": "stderr",
     "output_type": "stream",
     "text": [
      "C:\\Users\\wayko\\AppData\\Local\\Temp\\ipykernel_8156\\1795964462.py:26: SettingWithCopyWarning: \n",
      "A value is trying to be set on a copy of a slice from a DataFrame.\n",
      "Try using .loc[row_indexer,col_indexer] = value instead\n",
      "\n",
      "See the caveats in the documentation: https://pandas.pydata.org/pandas-docs/stable/user_guide/indexing.html#returning-a-view-versus-a-copy\n",
      "  partition[column] = mode_value\n"
     ]
    }
   ],
   "source": [
    "k = 5\n",
    "sensitive_attribute = df.columns[-1]\n",
    "\n",
    "partitioned_data = mondrian_k_anonymity(encoded_df, k, sensitive_attribute)\n",
    "\n",
    "for idx, partition in enumerate(partitioned_data):\n",
    "    print(f\"Partition {idx + 1} (Sensitive Value: {partition[sensitive_attribute].iloc[0]}):\")\n",
    "    print(partition,end='\\n\\n')\n",
    "\n",
    "anonymized_df = pd.concat(partitioned_data)"
   ],
   "metadata": {
    "collapsed": false,
    "ExecuteTime": {
     "end_time": "2023-10-26T13:28:22.937247600Z",
     "start_time": "2023-10-26T13:28:22.564488900Z"
    }
   },
   "id": "4bd8bc66b3f12da4"
  },
  {
   "cell_type": "code",
   "execution_count": 352,
   "outputs": [
    {
     "data": {
      "text/plain": "     Gender   Age  Height  Weight  family_history_with_overweight  FAVC  FCVC  \\\n529       0  18.0     1.7    50.0                               0     1   3.0   \n582       0  18.0     1.7    50.0                               0     1   3.0   \n581       0  18.0     1.7    50.0                               0     1   3.0   \n580       0  18.0     1.7    50.0                               0     1   3.0   \n579       0  18.0     1.7    50.0                               0     1   3.0   \n\n     NCP  CAEC  SMOKE  CH2O  SCC  FAF  TUE  CALC  MTRANS  NObeyesdad  \n529  3.0     2      0   2.0    0  2.0  1.0     2       3           0  \n582  3.0     2      0   2.0    0  2.0  1.0     2       3           0  \n581  3.0     2      0   2.0    0  2.0  1.0     2       3           0  \n580  3.0     2      0   2.0    0  2.0  1.0     2       3           0  \n579  3.0     2      0   2.0    0  2.0  1.0     2       3           0  ",
      "text/html": "<div>\n<style scoped>\n    .dataframe tbody tr th:only-of-type {\n        vertical-align: middle;\n    }\n\n    .dataframe tbody tr th {\n        vertical-align: top;\n    }\n\n    .dataframe thead th {\n        text-align: right;\n    }\n</style>\n<table border=\"1\" class=\"dataframe\">\n  <thead>\n    <tr style=\"text-align: right;\">\n      <th></th>\n      <th>Gender</th>\n      <th>Age</th>\n      <th>Height</th>\n      <th>Weight</th>\n      <th>family_history_with_overweight</th>\n      <th>FAVC</th>\n      <th>FCVC</th>\n      <th>NCP</th>\n      <th>CAEC</th>\n      <th>SMOKE</th>\n      <th>CH2O</th>\n      <th>SCC</th>\n      <th>FAF</th>\n      <th>TUE</th>\n      <th>CALC</th>\n      <th>MTRANS</th>\n      <th>NObeyesdad</th>\n    </tr>\n  </thead>\n  <tbody>\n    <tr>\n      <th>529</th>\n      <td>0</td>\n      <td>18.0</td>\n      <td>1.7</td>\n      <td>50.0</td>\n      <td>0</td>\n      <td>1</td>\n      <td>3.0</td>\n      <td>3.0</td>\n      <td>2</td>\n      <td>0</td>\n      <td>2.0</td>\n      <td>0</td>\n      <td>2.0</td>\n      <td>1.0</td>\n      <td>2</td>\n      <td>3</td>\n      <td>0</td>\n    </tr>\n    <tr>\n      <th>582</th>\n      <td>0</td>\n      <td>18.0</td>\n      <td>1.7</td>\n      <td>50.0</td>\n      <td>0</td>\n      <td>1</td>\n      <td>3.0</td>\n      <td>3.0</td>\n      <td>2</td>\n      <td>0</td>\n      <td>2.0</td>\n      <td>0</td>\n      <td>2.0</td>\n      <td>1.0</td>\n      <td>2</td>\n      <td>3</td>\n      <td>0</td>\n    </tr>\n    <tr>\n      <th>581</th>\n      <td>0</td>\n      <td>18.0</td>\n      <td>1.7</td>\n      <td>50.0</td>\n      <td>0</td>\n      <td>1</td>\n      <td>3.0</td>\n      <td>3.0</td>\n      <td>2</td>\n      <td>0</td>\n      <td>2.0</td>\n      <td>0</td>\n      <td>2.0</td>\n      <td>1.0</td>\n      <td>2</td>\n      <td>3</td>\n      <td>0</td>\n    </tr>\n    <tr>\n      <th>580</th>\n      <td>0</td>\n      <td>18.0</td>\n      <td>1.7</td>\n      <td>50.0</td>\n      <td>0</td>\n      <td>1</td>\n      <td>3.0</td>\n      <td>3.0</td>\n      <td>2</td>\n      <td>0</td>\n      <td>2.0</td>\n      <td>0</td>\n      <td>2.0</td>\n      <td>1.0</td>\n      <td>2</td>\n      <td>3</td>\n      <td>0</td>\n    </tr>\n    <tr>\n      <th>579</th>\n      <td>0</td>\n      <td>18.0</td>\n      <td>1.7</td>\n      <td>50.0</td>\n      <td>0</td>\n      <td>1</td>\n      <td>3.0</td>\n      <td>3.0</td>\n      <td>2</td>\n      <td>0</td>\n      <td>2.0</td>\n      <td>0</td>\n      <td>2.0</td>\n      <td>1.0</td>\n      <td>2</td>\n      <td>3</td>\n      <td>0</td>\n    </tr>\n  </tbody>\n</table>\n</div>"
     },
     "execution_count": 352,
     "metadata": {},
     "output_type": "execute_result"
    }
   ],
   "source": [
    "anonymized_df.head()"
   ],
   "metadata": {
    "collapsed": false,
    "ExecuteTime": {
     "end_time": "2023-10-26T13:28:23.008337300Z",
     "start_time": "2023-10-26T13:28:22.713725900Z"
    }
   },
   "id": "c8638a992c4ec594"
  },
  {
   "cell_type": "code",
   "execution_count": 353,
   "outputs": [
    {
     "data": {
      "text/plain": "   Gender   Age  Height  Weight  family_history_with_overweight  FAVC  FCVC  \\\n0       0  21.0    1.62    64.0                               1     0   2.0   \n1       0  21.0    1.52    56.0                               1     0   3.0   \n2       1  23.0    1.80    77.0                               1     0   2.0   \n3       1  27.0    1.80    87.0                               0     0   3.0   \n4       1  22.0    1.78    89.8                               0     0   2.0   \n\n   NCP  CAEC  SMOKE  CH2O  SCC  FAF  TUE  CALC  MTRANS  \n0  3.0     2      0   2.0    0  0.0  1.0     3       3  \n1  3.0     2      1   3.0    1  3.0  0.0     2       3  \n2  3.0     2      0   2.0    0  2.0  1.0     1       3  \n3  3.0     2      0   2.0    0  2.0  0.0     1       4  \n4  1.0     2      0   2.0    0  0.0  0.0     2       3  ",
      "text/html": "<div>\n<style scoped>\n    .dataframe tbody tr th:only-of-type {\n        vertical-align: middle;\n    }\n\n    .dataframe tbody tr th {\n        vertical-align: top;\n    }\n\n    .dataframe thead th {\n        text-align: right;\n    }\n</style>\n<table border=\"1\" class=\"dataframe\">\n  <thead>\n    <tr style=\"text-align: right;\">\n      <th></th>\n      <th>Gender</th>\n      <th>Age</th>\n      <th>Height</th>\n      <th>Weight</th>\n      <th>family_history_with_overweight</th>\n      <th>FAVC</th>\n      <th>FCVC</th>\n      <th>NCP</th>\n      <th>CAEC</th>\n      <th>SMOKE</th>\n      <th>CH2O</th>\n      <th>SCC</th>\n      <th>FAF</th>\n      <th>TUE</th>\n      <th>CALC</th>\n      <th>MTRANS</th>\n    </tr>\n  </thead>\n  <tbody>\n    <tr>\n      <th>0</th>\n      <td>0</td>\n      <td>21.0</td>\n      <td>1.62</td>\n      <td>64.0</td>\n      <td>1</td>\n      <td>0</td>\n      <td>2.0</td>\n      <td>3.0</td>\n      <td>2</td>\n      <td>0</td>\n      <td>2.0</td>\n      <td>0</td>\n      <td>0.0</td>\n      <td>1.0</td>\n      <td>3</td>\n      <td>3</td>\n    </tr>\n    <tr>\n      <th>1</th>\n      <td>0</td>\n      <td>21.0</td>\n      <td>1.52</td>\n      <td>56.0</td>\n      <td>1</td>\n      <td>0</td>\n      <td>3.0</td>\n      <td>3.0</td>\n      <td>2</td>\n      <td>1</td>\n      <td>3.0</td>\n      <td>1</td>\n      <td>3.0</td>\n      <td>0.0</td>\n      <td>2</td>\n      <td>3</td>\n    </tr>\n    <tr>\n      <th>2</th>\n      <td>1</td>\n      <td>23.0</td>\n      <td>1.80</td>\n      <td>77.0</td>\n      <td>1</td>\n      <td>0</td>\n      <td>2.0</td>\n      <td>3.0</td>\n      <td>2</td>\n      <td>0</td>\n      <td>2.0</td>\n      <td>0</td>\n      <td>2.0</td>\n      <td>1.0</td>\n      <td>1</td>\n      <td>3</td>\n    </tr>\n    <tr>\n      <th>3</th>\n      <td>1</td>\n      <td>27.0</td>\n      <td>1.80</td>\n      <td>87.0</td>\n      <td>0</td>\n      <td>0</td>\n      <td>3.0</td>\n      <td>3.0</td>\n      <td>2</td>\n      <td>0</td>\n      <td>2.0</td>\n      <td>0</td>\n      <td>2.0</td>\n      <td>0.0</td>\n      <td>1</td>\n      <td>4</td>\n    </tr>\n    <tr>\n      <th>4</th>\n      <td>1</td>\n      <td>22.0</td>\n      <td>1.78</td>\n      <td>89.8</td>\n      <td>0</td>\n      <td>0</td>\n      <td>2.0</td>\n      <td>1.0</td>\n      <td>2</td>\n      <td>0</td>\n      <td>2.0</td>\n      <td>0</td>\n      <td>0.0</td>\n      <td>0.0</td>\n      <td>2</td>\n      <td>3</td>\n    </tr>\n  </tbody>\n</table>\n</div>"
     },
     "execution_count": 353,
     "metadata": {},
     "output_type": "execute_result"
    }
   ],
   "source": [
    "label = encoded_df.iloc[:,-1]\n",
    "encoded_df = encoded_df.iloc[:,:-1]\n",
    "encoded_df.head()"
   ],
   "metadata": {
    "collapsed": false,
    "ExecuteTime": {
     "end_time": "2023-10-26T13:28:23.055233700Z",
     "start_time": "2023-10-26T13:28:22.733747800Z"
    }
   },
   "id": "8c18dfec82805986"
  },
  {
   "cell_type": "code",
   "execution_count": 354,
   "outputs": [
    {
     "data": {
      "text/plain": "0    1\n1    1\n2    1\n3    5\n4    6\nName: NObeyesdad, dtype: int32"
     },
     "execution_count": 354,
     "metadata": {},
     "output_type": "execute_result"
    }
   ],
   "source": [
    "label.head()"
   ],
   "metadata": {
    "collapsed": false,
    "ExecuteTime": {
     "end_time": "2023-10-26T13:28:23.055233700Z",
     "start_time": "2023-10-26T13:28:22.768476700Z"
    }
   },
   "id": "a9d1935d57e6ebf4"
  },
  {
   "cell_type": "code",
   "execution_count": 355,
   "outputs": [
    {
     "data": {
      "text/plain": "KNeighborsClassifier(n_neighbors=3)",
      "text/html": "<style>#sk-container-id-22 {color: black;}#sk-container-id-22 pre{padding: 0;}#sk-container-id-22 div.sk-toggleable {background-color: white;}#sk-container-id-22 label.sk-toggleable__label {cursor: pointer;display: block;width: 100%;margin-bottom: 0;padding: 0.3em;box-sizing: border-box;text-align: center;}#sk-container-id-22 label.sk-toggleable__label-arrow:before {content: \"▸\";float: left;margin-right: 0.25em;color: #696969;}#sk-container-id-22 label.sk-toggleable__label-arrow:hover:before {color: black;}#sk-container-id-22 div.sk-estimator:hover label.sk-toggleable__label-arrow:before {color: black;}#sk-container-id-22 div.sk-toggleable__content {max-height: 0;max-width: 0;overflow: hidden;text-align: left;background-color: #f0f8ff;}#sk-container-id-22 div.sk-toggleable__content pre {margin: 0.2em;color: black;border-radius: 0.25em;background-color: #f0f8ff;}#sk-container-id-22 input.sk-toggleable__control:checked~div.sk-toggleable__content {max-height: 200px;max-width: 100%;overflow: auto;}#sk-container-id-22 input.sk-toggleable__control:checked~label.sk-toggleable__label-arrow:before {content: \"▾\";}#sk-container-id-22 div.sk-estimator input.sk-toggleable__control:checked~label.sk-toggleable__label {background-color: #d4ebff;}#sk-container-id-22 div.sk-label input.sk-toggleable__control:checked~label.sk-toggleable__label {background-color: #d4ebff;}#sk-container-id-22 input.sk-hidden--visually {border: 0;clip: rect(1px 1px 1px 1px);clip: rect(1px, 1px, 1px, 1px);height: 1px;margin: -1px;overflow: hidden;padding: 0;position: absolute;width: 1px;}#sk-container-id-22 div.sk-estimator {font-family: monospace;background-color: #f0f8ff;border: 1px dotted black;border-radius: 0.25em;box-sizing: border-box;margin-bottom: 0.5em;}#sk-container-id-22 div.sk-estimator:hover {background-color: #d4ebff;}#sk-container-id-22 div.sk-parallel-item::after {content: \"\";width: 100%;border-bottom: 1px solid gray;flex-grow: 1;}#sk-container-id-22 div.sk-label:hover label.sk-toggleable__label {background-color: #d4ebff;}#sk-container-id-22 div.sk-serial::before {content: \"\";position: absolute;border-left: 1px solid gray;box-sizing: border-box;top: 0;bottom: 0;left: 50%;z-index: 0;}#sk-container-id-22 div.sk-serial {display: flex;flex-direction: column;align-items: center;background-color: white;padding-right: 0.2em;padding-left: 0.2em;position: relative;}#sk-container-id-22 div.sk-item {position: relative;z-index: 1;}#sk-container-id-22 div.sk-parallel {display: flex;align-items: stretch;justify-content: center;background-color: white;position: relative;}#sk-container-id-22 div.sk-item::before, #sk-container-id-22 div.sk-parallel-item::before {content: \"\";position: absolute;border-left: 1px solid gray;box-sizing: border-box;top: 0;bottom: 0;left: 50%;z-index: -1;}#sk-container-id-22 div.sk-parallel-item {display: flex;flex-direction: column;z-index: 1;position: relative;background-color: white;}#sk-container-id-22 div.sk-parallel-item:first-child::after {align-self: flex-end;width: 50%;}#sk-container-id-22 div.sk-parallel-item:last-child::after {align-self: flex-start;width: 50%;}#sk-container-id-22 div.sk-parallel-item:only-child::after {width: 0;}#sk-container-id-22 div.sk-dashed-wrapped {border: 1px dashed gray;margin: 0 0.4em 0.5em 0.4em;box-sizing: border-box;padding-bottom: 0.4em;background-color: white;}#sk-container-id-22 div.sk-label label {font-family: monospace;font-weight: bold;display: inline-block;line-height: 1.2em;}#sk-container-id-22 div.sk-label-container {text-align: center;}#sk-container-id-22 div.sk-container {/* jupyter's `normalize.less` sets `[hidden] { display: none; }` but bootstrap.min.css set `[hidden] { display: none !important; }` so we also need the `!important` here to be able to override the default hidden behavior on the sphinx rendered scikit-learn.org. See: https://github.com/scikit-learn/scikit-learn/issues/21755 */display: inline-block !important;position: relative;}#sk-container-id-22 div.sk-text-repr-fallback {display: none;}</style><div id=\"sk-container-id-22\" class=\"sk-top-container\"><div class=\"sk-text-repr-fallback\"><pre>KNeighborsClassifier(n_neighbors=3)</pre><b>In a Jupyter environment, please rerun this cell to show the HTML representation or trust the notebook. <br />On GitHub, the HTML representation is unable to render, please try loading this page with nbviewer.org.</b></div><div class=\"sk-container\" hidden><div class=\"sk-item\"><div class=\"sk-estimator sk-toggleable\"><input class=\"sk-toggleable__control sk-hidden--visually\" id=\"sk-estimator-id-22\" type=\"checkbox\" checked><label for=\"sk-estimator-id-22\" class=\"sk-toggleable__label sk-toggleable__label-arrow\">KNeighborsClassifier</label><div class=\"sk-toggleable__content\"><pre>KNeighborsClassifier(n_neighbors=3)</pre></div></div></div></div></div>"
     },
     "execution_count": 355,
     "metadata": {},
     "output_type": "execute_result"
    }
   ],
   "source": [
    "from sklearn.neighbors import KNeighborsClassifier\n",
    "\n",
    "model = KNeighborsClassifier(n_neighbors=3)\n",
    "model.fit(encoded_df,label)"
   ],
   "metadata": {
    "collapsed": false,
    "ExecuteTime": {
     "end_time": "2023-10-26T13:28:23.086482800Z",
     "start_time": "2023-10-26T13:28:22.786316100Z"
    }
   },
   "id": "a32eee6ab719757d"
  },
  {
   "cell_type": "code",
   "execution_count": 356,
   "outputs": [
    {
     "data": {
      "text/plain": "      Gender        Age    Height     Weight  family_history_with_overweight  \\\n885        0  18.871917  1.755254  80.000000                               1   \n712        0  19.054938  1.585886  42.541794                               0   \n62         1  22.000000  1.670000  62.000000                               0   \n1208       0  45.821267  1.687326  80.413997                               1   \n690        1  17.521754  1.757958  52.094320                               0   \n\n      FAVC      FCVC       NCP  CAEC  SMOKE      CH2O  SCC       FAF      TUE  \\\n885      1  2.000000  1.095223     2      0  2.474132    0  2.876696  0.79390   \n712      0  2.910345  3.000000     1      0  1.000000    1  1.461005  0.00000   \n62       1  2.000000  1.000000     3      0  2.000000    0  0.000000  0.00000   \n1208     1  2.076689  3.000000     2      0  1.026729    0  0.647798  0.00000   \n690      1  2.214980  2.641550     2      0  2.121251    0  0.998391  0.85882   \n\n      CALC  MTRANS  \n885      3       3  \n712      2       3  \n62       2       3  \n1208     3       0  \n690      2       3  ",
      "text/html": "<div>\n<style scoped>\n    .dataframe tbody tr th:only-of-type {\n        vertical-align: middle;\n    }\n\n    .dataframe tbody tr th {\n        vertical-align: top;\n    }\n\n    .dataframe thead th {\n        text-align: right;\n    }\n</style>\n<table border=\"1\" class=\"dataframe\">\n  <thead>\n    <tr style=\"text-align: right;\">\n      <th></th>\n      <th>Gender</th>\n      <th>Age</th>\n      <th>Height</th>\n      <th>Weight</th>\n      <th>family_history_with_overweight</th>\n      <th>FAVC</th>\n      <th>FCVC</th>\n      <th>NCP</th>\n      <th>CAEC</th>\n      <th>SMOKE</th>\n      <th>CH2O</th>\n      <th>SCC</th>\n      <th>FAF</th>\n      <th>TUE</th>\n      <th>CALC</th>\n      <th>MTRANS</th>\n    </tr>\n  </thead>\n  <tbody>\n    <tr>\n      <th>885</th>\n      <td>0</td>\n      <td>18.871917</td>\n      <td>1.755254</td>\n      <td>80.000000</td>\n      <td>1</td>\n      <td>1</td>\n      <td>2.000000</td>\n      <td>1.095223</td>\n      <td>2</td>\n      <td>0</td>\n      <td>2.474132</td>\n      <td>0</td>\n      <td>2.876696</td>\n      <td>0.79390</td>\n      <td>3</td>\n      <td>3</td>\n    </tr>\n    <tr>\n      <th>712</th>\n      <td>0</td>\n      <td>19.054938</td>\n      <td>1.585886</td>\n      <td>42.541794</td>\n      <td>0</td>\n      <td>0</td>\n      <td>2.910345</td>\n      <td>3.000000</td>\n      <td>1</td>\n      <td>0</td>\n      <td>1.000000</td>\n      <td>1</td>\n      <td>1.461005</td>\n      <td>0.00000</td>\n      <td>2</td>\n      <td>3</td>\n    </tr>\n    <tr>\n      <th>62</th>\n      <td>1</td>\n      <td>22.000000</td>\n      <td>1.670000</td>\n      <td>62.000000</td>\n      <td>0</td>\n      <td>1</td>\n      <td>2.000000</td>\n      <td>1.000000</td>\n      <td>3</td>\n      <td>0</td>\n      <td>2.000000</td>\n      <td>0</td>\n      <td>0.000000</td>\n      <td>0.00000</td>\n      <td>2</td>\n      <td>3</td>\n    </tr>\n    <tr>\n      <th>1208</th>\n      <td>0</td>\n      <td>45.821267</td>\n      <td>1.687326</td>\n      <td>80.413997</td>\n      <td>1</td>\n      <td>1</td>\n      <td>2.076689</td>\n      <td>3.000000</td>\n      <td>2</td>\n      <td>0</td>\n      <td>1.026729</td>\n      <td>0</td>\n      <td>0.647798</td>\n      <td>0.00000</td>\n      <td>3</td>\n      <td>0</td>\n    </tr>\n    <tr>\n      <th>690</th>\n      <td>1</td>\n      <td>17.521754</td>\n      <td>1.757958</td>\n      <td>52.094320</td>\n      <td>0</td>\n      <td>1</td>\n      <td>2.214980</td>\n      <td>2.641550</td>\n      <td>2</td>\n      <td>0</td>\n      <td>2.121251</td>\n      <td>0</td>\n      <td>0.998391</td>\n      <td>0.85882</td>\n      <td>2</td>\n      <td>3</td>\n    </tr>\n  </tbody>\n</table>\n</div>"
     },
     "execution_count": 356,
     "metadata": {},
     "output_type": "execute_result"
    }
   ],
   "source": [
    "test_feature = features_test.iloc[:,:-1]\n",
    "test_label = features_test.iloc[:,-1]\n",
    "test_feature.head()"
   ],
   "metadata": {
    "collapsed": false,
    "ExecuteTime": {
     "end_time": "2023-10-26T13:28:23.086482800Z",
     "start_time": "2023-10-26T13:28:22.842929Z"
    }
   },
   "id": "c9d2482b0941389a"
  },
  {
   "cell_type": "code",
   "execution_count": 357,
   "outputs": [
    {
     "data": {
      "text/plain": "885     5\n712     0\n62      1\n1208    6\n690     0\nName: NObeyesdad, dtype: int32"
     },
     "execution_count": 357,
     "metadata": {},
     "output_type": "execute_result"
    }
   ],
   "source": [
    "test_label.head()"
   ],
   "metadata": {
    "collapsed": false,
    "ExecuteTime": {
     "end_time": "2023-10-26T13:28:23.086482800Z",
     "start_time": "2023-10-26T13:28:22.907112800Z"
    }
   },
   "id": "cbc36c7a8fe0a4a"
  },
  {
   "cell_type": "code",
   "execution_count": 358,
   "outputs": [
    {
     "data": {
      "text/plain": "array([5, 0, 1, 6, 0, 4, 4, 1, 2, 2, 0, 5, 1, 0, 3, 2, 1, 5, 3, 6, 4, 1,\n       6, 6, 1, 5, 5, 3, 2, 2, 5, 3, 0, 2, 2, 3, 3, 0, 0, 5, 0, 1, 0, 2,\n       4, 6, 0, 1, 2, 1, 6, 5, 6, 3, 0, 0, 2, 2, 2, 0, 1, 6, 1, 4, 2, 4,\n       6, 4, 0, 0, 4, 4, 6, 3, 2, 3, 3, 5, 4, 1, 1, 4, 5, 5, 6, 2, 2, 6,\n       1, 0, 3, 2, 5, 3, 2, 2, 0, 0, 5, 2, 6, 2, 5, 0, 5, 5, 4, 6, 1, 0,\n       3, 0, 1, 0, 1, 1, 5, 0, 0, 1, 3, 3, 6, 1, 6, 4, 6, 0, 3, 1, 1, 2,\n       4, 2, 2, 3, 1, 2, 2, 3, 0, 3, 2, 2, 6, 0, 0, 6, 3, 4, 2, 5, 5, 3,\n       6, 6, 0, 0, 6, 0, 5, 5, 6, 6, 0, 0, 4, 4, 3, 3, 2, 4, 3, 2, 3, 2,\n       5, 1, 6, 5, 0, 4, 5, 1, 3, 5, 2, 6, 6, 6, 4, 3, 1, 3, 0, 6, 5, 2,\n       2, 3, 2, 0, 0, 5, 2, 4, 3, 2, 4, 5, 2, 4, 3, 2, 6, 0, 1, 2, 2, 4,\n       4, 6, 1, 4, 2, 4, 5, 4, 2, 4, 0, 6, 1, 5, 1, 3, 5, 1, 1, 5, 2, 5,\n       5, 0, 3, 4, 2, 6, 2, 3, 3, 4, 4, 6, 0, 6, 5, 3, 4, 5, 3, 3, 2, 6,\n       1, 5, 3, 2, 4, 6, 6, 5, 6, 3, 0, 4, 6, 5, 0, 3, 2, 5, 4, 4, 5, 0,\n       0, 3, 6, 2, 0, 2, 3, 6, 5, 2, 4, 4, 4, 4, 0, 0, 0, 6, 4, 2, 0, 2,\n       4, 4, 5, 5, 6, 6, 1, 5, 2, 3, 3, 4, 0, 2, 5, 1, 4, 5, 0, 6, 3, 1,\n       3, 3, 6, 4, 2, 6, 0, 1, 0, 0, 5, 6, 5, 4, 0, 3, 1, 4, 2, 4, 2, 5,\n       0, 0, 0, 4, 6, 2, 6, 1, 4, 6, 2, 6, 1, 6, 2, 6, 4, 6, 1, 4, 0, 3,\n       5, 6, 2, 0, 6, 6, 0, 3, 2, 1, 1, 3, 2, 6, 4, 0, 2, 3, 2, 5, 6, 4,\n       0, 6, 1, 4, 4, 6, 4, 5, 1, 3, 4, 6, 2, 6, 6, 5, 0, 2, 4, 5, 2, 5,\n       2, 2, 0, 1, 5])"
     },
     "execution_count": 358,
     "metadata": {},
     "output_type": "execute_result"
    }
   ],
   "source": [
    "pred = model.predict(test_feature)\n",
    "pred"
   ],
   "metadata": {
    "collapsed": false,
    "ExecuteTime": {
     "end_time": "2023-10-26T13:28:23.234823100Z",
     "start_time": "2023-10-26T13:28:22.921597500Z"
    }
   },
   "id": "daceaeb8ea409002"
  },
  {
   "cell_type": "code",
   "execution_count": 359,
   "outputs": [
    {
     "data": {
      "text/plain": "0.9314420803782506"
     },
     "execution_count": 359,
     "metadata": {},
     "output_type": "execute_result"
    }
   ],
   "source": [
    "from sklearn.metrics import accuracy_score\n",
    "\n",
    "accuracy = accuracy_score(y_true=test_label,y_pred=pred)\n",
    "accuracy"
   ],
   "metadata": {
    "collapsed": false,
    "ExecuteTime": {
     "end_time": "2023-10-26T13:28:23.250423100Z",
     "start_time": "2023-10-26T13:28:22.993316Z"
    }
   },
   "id": "c27db2a97bf98836"
  }
 ],
 "metadata": {
  "kernelspec": {
   "display_name": "Python 3",
   "language": "python",
   "name": "python3"
  },
  "language_info": {
   "codemirror_mode": {
    "name": "ipython",
    "version": 2
   },
   "file_extension": ".py",
   "mimetype": "text/x-python",
   "name": "python",
   "nbconvert_exporter": "python",
   "pygments_lexer": "ipython2",
   "version": "2.7.6"
  }
 },
 "nbformat": 4,
 "nbformat_minor": 5
}
